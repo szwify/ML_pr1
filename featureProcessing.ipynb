{
 "cells": [
  {
   "cell_type": "markdown",
   "metadata": {},
   "source": [
    "# Feature Processing"
   ]
  },
  {
   "cell_type": "code",
   "execution_count": 1,
   "metadata": {
    "collapsed": true
   },
   "outputs": [],
   "source": [
    "import numpy as np\n",
    "import matplotlib.pyplot as plt\n",
    "from implementations import *\n",
    "from helpers import *"
   ]
  },
  {
   "cell_type": "code",
   "execution_count": 2,
   "metadata": {
    "collapsed": true
   },
   "outputs": [],
   "source": [
    "# Import full data\n",
    "(yb_t, input_data_t, ids_t) = load_csv_data('data/train.csv', sub_sample = False)\n",
    "(yb_test, input_data_test, ids_test) = load_csv_data('data/test.csv',sub_sample = False)\n",
    "\n",
    "# Replace missing data with nan\n",
    "input_data_t_clean = clean_data(input_data_t)\n",
    "yb_t_clean = clean_data(yb_t)\n",
    "input_data_test_clean = clean_data(input_data_test)\n",
    "yb_test_clean = clean_data(yb_test)"
   ]
  },
  {
   "cell_type": "code",
   "execution_count": 4,
   "metadata": {},
   "outputs": [
    {
     "name": "stdout",
     "output_type": "stream",
     "text": [
      "tx_train.shape =  (68114, 30)\n",
      "y_train.shape =  (68114,)\n"
     ]
    }
   ],
   "source": [
    "# Eliminate data points with missing data\n",
    "def delDataPoints(input_tx_train, input_y_train, input_tx_test, input_y_test):\n",
    "    mask = [~np.isnan(input_tx_train).any(axis =1)]\n",
    "    tx_train = input_tx_train[mask]\n",
    "    y_train = input_y_train[mask]\n",
    "    tx_test = input_tx_test\n",
    "    y_test = input_y_test\n",
    "    return tx_train, y_train, tx_test, y_test\n",
    "\n",
    "tx_train, y_train, tx_test, y_test = delDataPoints(input_data_t_clean, yb_t_clean, input_data_test_clean, yb_test_clean)\n",
    "print(\"tx_train.shape = \", tx_train.shape)\n",
    "print(\"y_train.shape = \", y_train.shape)"
   ]
  },
  {
   "cell_type": "code",
   "execution_count": 6,
   "metadata": {},
   "outputs": [
    {
     "name": "stdout",
     "output_type": "stream",
     "text": [
      "[False  True  True  True False False False  True  True  True  True  True\n",
      " False  True  True  True  True  True  True  True  True  True  True False\n",
      " False False False False False  True]\n",
      "tx_train.shape =  (250000, 19)\n",
      "tx_test.shape =  (568238, 19)\n"
     ]
    }
   ],
   "source": [
    "# Eliminate features with missing data for some points (must consider both training and test sets)\n",
    "def delFeatures(input_tx_train, input_y_train, input_tx_test, input_y_test):\n",
    "    tx_complete = np.concatenate((input_tx_train, input_tx_test), axis=0)\n",
    "    mask = np.array([~np.isnan(tx_complete).any(axis =0)]).ravel()\n",
    "    print(mask)\n",
    "    tx_train = input_tx_train[:,mask]\n",
    "    y_train = input_y_train\n",
    "    tx_test = input_tx_test[:,mask]\n",
    "    y_test = input_y_test\n",
    "    return tx_train, y_train, tx_test, y_test\n",
    "\n",
    "tx_train, y_train, tx_test, y_test = delFeatures(input_data_t_clean, yb_t_clean, input_data_test_clean, yb_test_clean)\n",
    "print(\"tx_train.shape = \", tx_train.shape)\n",
    "print(\"tx_test.shape = \", tx_test.shape)"
   ]
  },
  {
   "cell_type": "code",
   "execution_count": 15,
   "metadata": {
    "collapsed": true
   },
   "outputs": [],
   "source": [
    "# Replacing missing values by their respective mean for each feature (computing for the TRAINING set only!)\n",
    "def replaceByMeanPerFeature(input_tx_train, input_y_train, input_tx_test, input_y_test):\n",
    "    train_mean = np.nanmean(input_tx_train, axis=0) # Computes the mean per column without considering nan value\n",
    "    for ind, mean in enumerate(train_mean):\n",
    "        mask_tmp = np.isnan(input_tx_train[:,ind])\n",
    "        input_tx_train[mask_tmp, ind] = mean\n",
    "        mask_tmp = np.isnan(input_tx_test[:,ind])\n",
    "        input_tx_test[mask_tmp, ind] = mean\n",
    "    y_train = input_y_train\n",
    "    y_test = input_y_test\n",
    "    return input_tx_train, y_train, input_tx_test, y_test\n",
    "       \n",
    "#replaceByMeanPerFeature(input_data_t_clean, input_data_test_clean)  "
   ]
  },
  {
   "cell_type": "code",
   "execution_count": 16,
   "metadata": {},
   "outputs": [
    {
     "name": "stdout",
     "output_type": "stream",
     "text": [
      "A =  [[ nan   0.   4.]\n",
      " [  3.  nan   4.]\n",
      " [  2.   1.   4.]]\n",
      "B =  [[ nan   2.   3.]\n",
      " [  4.  nan   6.]]\n",
      "A_processed =  [[ 2.5  0.   4. ]\n",
      " [ 3.   0.5  4. ]\n",
      " [ 2.   1.   4. ]]\n",
      "B_processed =  [[ 2.5  2.   3. ]\n",
      " [ 4.   0.5  6. ]]\n"
     ]
    }
   ],
   "source": [
    "# test for replaceByMeanPerFeature\n",
    "A = np.array([[np.nan, 0, 4], [3, np.nan, 4], [2, 1, 4]])\n",
    "y_A = np.array([1, 1])\n",
    "print(\"A = \", A)\n",
    "\n",
    "B = np.array([[np.nan, 2, 3],[4, np.nan, 6]])\n",
    "y_B = np.array([1, 1])\n",
    "print(\"B = \", B)\n",
    "\n",
    "C, y_C, D, y_D = replaceByMeanPerFeature(A, y_A, B, y_B)\n",
    "print(\"A_processed = \", C)\n",
    "print(\"B_processed = \", D)"
   ]
  },
  {
   "cell_type": "markdown",
   "metadata": {
    "collapsed": true
   },
   "source": [
    "# Feature augmentation"
   ]
  },
  {
   "cell_type": "code",
   "execution_count": 34,
   "metadata": {},
   "outputs": [],
   "source": [
    "def build_poly(x, degree):\n",
    "    \"\"\"polynomial basis functions for input data x, for j=0 up to j=degree.\"\"\"\n",
    "    poly = np.ones((len(x), 1))\n",
    "    for deg in range(1, degree+1):\n",
    "        poly = np.c_[poly, np.power(x, deg)]\n",
    "    return poly[:, 1:]\n",
    "\n",
    "def augment_feat(input_tx_train, input_tx_test, degree):\n",
    "    n_features = len(input_tx_train[0])\n",
    "    for ind in range(0, n_features):\n",
    "        input_tx_train = np.c_[input_tx_train, build_poly(input_tx_train[:, ind], degree)]\n",
    "        input_tx_test = np.c_[input_tx_test, build_poly(input_tx_test[:, ind], degree)]\n",
    "    return input_tx_train, input_tx_test\n",
    "    "
   ]
  },
  {
   "cell_type": "code",
   "execution_count": 37,
   "metadata": {},
   "outputs": [
    {
     "name": "stdout",
     "output_type": "stream",
     "text": [
      "A =  [[1 2 3]\n",
      " [1 2 3]\n",
      " [1 2 3]]\n",
      "[[  1.   2.   3.   1.   1.   1.   2.   4.   8.   3.   9.  27.]\n",
      " [  1.   2.   3.   1.   1.   1.   2.   4.   8.   3.   9.  27.]\n",
      " [  1.   2.   3.   1.   1.   1.   2.   4.   8.   3.   9.  27.]]\n"
     ]
    }
   ],
   "source": [
    "A = np.array([[1, 2, 3], [1, 2, 3], [1, 2, 3]])\n",
    "print(\"A = \", A)\n",
    "\n",
    "B = np.array([[1, 2, 3], [1, 2, 3], [1, 2, 3]])\n",
    "\n",
    "C, D = augment_feat(A, B, 3)\n",
    "print(C)"
   ]
  },
  {
   "cell_type": "code",
   "execution_count": null,
   "metadata": {
    "collapsed": true
   },
   "outputs": [],
   "source": []
  }
 ],
 "metadata": {
  "kernelspec": {
   "display_name": "Python 3",
   "language": "python",
   "name": "python3"
  },
  "language_info": {
   "codemirror_mode": {
    "name": "ipython",
    "version": 3
   },
   "file_extension": ".py",
   "mimetype": "text/x-python",
   "name": "python",
   "nbconvert_exporter": "python",
   "pygments_lexer": "ipython3",
   "version": "3.6.1"
  }
 },
 "nbformat": 4,
 "nbformat_minor": 2
}
