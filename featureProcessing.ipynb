{
 "cells": [
  {
   "cell_type": "markdown",
   "metadata": {},
   "source": [
    "# Feature Processing"
   ]
  },
  {
   "cell_type": "code",
   "execution_count": 1,
   "metadata": {
    "collapsed": true
   },
   "outputs": [],
   "source": [
    "import numpy as np\n",
    "import matplotlib.pyplot as plt\n",
    "from implementations import *\n",
    "from helpers import *"
   ]
  },
  {
   "cell_type": "code",
   "execution_count": 3,
   "metadata": {},
   "outputs": [],
   "source": [
    "# Import full data\n",
    "(yb_t, input_data_t, ids_t) = load_csv_data('data/train.csv', sub_sample = False)\n",
    "(yb_test, input_data_test, ids_test) = load_csv_data('data/test.csv',sub_sample = False)\n",
    "\n",
    "# Replace missing data with nan\n",
    "input_data_t_clean = clean_data(input_data_t)\n",
    "yb_t_clean = clean_data(yb_t)\n",
    "input_data_test_clean = clean_data(input_data_test)\n",
    "yb_test_clean = clean_data(yb_test)"
   ]
  },
  {
   "cell_type": "code",
   "execution_count": 27,
   "metadata": {},
   "outputs": [
    {
     "name": "stdout",
     "output_type": "stream",
     "text": [
      "tx.shape =  (68114, 30)\n",
      "y.shape =  (68114,)\n"
     ]
    }
   ],
   "source": [
    "# Eliminate data points with missing data\n",
    "def delDataPoints(input_tx, input_y):\n",
    "    mask = [~np.isnan(input_tx).any(axis =1)]\n",
    "    tx = input_tx[mask]\n",
    "    y = input_y[mask]\n",
    "    return tx, y\n",
    "    \n",
    "tx, y = delDataPoints(input_data_t_clean, yb_t_clean)\n",
    "print(\"tx.shape = \", tx.shape)\n",
    "print(\"y.shape = \", y.shape)"
   ]
  },
  {
   "cell_type": "code",
   "execution_count": 89,
   "metadata": {},
   "outputs": [
    {
     "name": "stdout",
     "output_type": "stream",
     "text": [
      "[False  True  True  True False False False  True  True  True  True  True\n",
      " False  True  True  True  True  True  True  True  True  True  True False\n",
      " False False False False False  True]\n",
      "tx_train.shape =  (250000, 19)\n",
      "tx_test.shape =  (568238, 19)\n"
     ]
    }
   ],
   "source": [
    "# Eliminate features with missing data for some points (must consider both training and test sets)\n",
    "def delFeatures(input_tx_train, input_tx_test):\n",
    "    tx_complete = np.concatenate((input_tx_train, input_tx_test), axis=0)\n",
    "    mask = np.array([~np.isnan(tx_complete).any(axis =0)]).ravel()\n",
    "    print(mask)\n",
    "    tx_train = input_tx_train[:,mask]\n",
    "    tx_test = input_tx_test[:,mask]\n",
    "    return tx_train, tx_test\n",
    "\n",
    "tx_train, tx_test = delFeatures(input_data_t_clean, input_data_test_clean)\n",
    "print(\"tx_train.shape = \", tx_train.shape)\n",
    "print(\"tx_test.shape = \", tx_test.shape)"
   ]
  },
  {
   "cell_type": "code",
   "execution_count": 132,
   "metadata": {},
   "outputs": [],
   "source": [
    "# Replacing missing values by their respective mean for each feature (computing for the TRAINING set only!)\n",
    "def replaceByMeanPerFeature(input_tx_train, input_tx_test):\n",
    "    train_mean = np.nanmean(input_tx_train, axis=0)\n",
    "    for ind, mean in enumerate(train_mean):\n",
    "        mask_tmp = np.isnan(input_tx_train[:,ind])\n",
    "        input_tx_train[mask_tmp, ind] = mean\n",
    "        mask_tmp = np.isnan(input_tx_test[:,ind])\n",
    "        input_tx_test[mask_tmp, ind] = mean\n",
    "    return input_tx_train, input_tx_test\n",
    "       \n",
    "#replaceByMeanPerFeature(input_data_t_clean, input_data_test_clean)  "
   ]
  },
  {
   "cell_type": "code",
   "execution_count": 133,
   "metadata": {},
   "outputs": [
    {
     "name": "stdout",
     "output_type": "stream",
     "text": [
      "[[ nan   0.   4.]\n",
      " [  3.  nan   4.]\n",
      " [  2.   1.   4.]]\n",
      "[[ nan   2.   3.]\n",
      " [  4.  nan   6.]]\n",
      "[[ 2.5  2.   3. ]\n",
      " [ 4.   0.5  6. ]]\n"
     ]
    }
   ],
   "source": [
    "# test for replaceByMeanPerFeature\n",
    "A = np.array([[np.nan, 0, 4], [3, np.nan, 4], [2, 1, 4]])\n",
    "print(A)\n",
    "B = np.array([[np.nan, 2, 3],[4, np.nan, 6]])\n",
    "print(B)\n",
    "A, B = replaceByMeanPerFeature(A, B)\n",
    "print(B)"
   ]
  },
  {
   "cell_type": "code",
   "execution_count": null,
   "metadata": {
    "collapsed": true
   },
   "outputs": [],
   "source": []
  },
  {
   "cell_type": "code",
   "execution_count": null,
   "metadata": {
    "collapsed": true
   },
   "outputs": [],
   "source": []
  }
 ],
 "metadata": {
  "kernelspec": {
   "display_name": "Python 3",
   "language": "python",
   "name": "python3"
  },
  "language_info": {
   "codemirror_mode": {
    "name": "ipython",
    "version": 3
   },
   "file_extension": ".py",
   "mimetype": "text/x-python",
   "name": "python",
   "nbconvert_exporter": "python",
   "pygments_lexer": "ipython3",
   "version": "3.6.1"
  }
 },
 "nbformat": 4,
 "nbformat_minor": 2
}
