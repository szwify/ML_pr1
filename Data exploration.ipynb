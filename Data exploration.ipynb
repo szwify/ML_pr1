{
 "cells": [
  {
   "cell_type": "code",
   "execution_count": 1,
   "metadata": {
    "collapsed": true
   },
   "outputs": [],
   "source": [
    "import numpy as np\n",
    "import matplotlib.pyplot as plt\n",
    "import pickle\n",
    "from implementations import *\n",
    "from helpers import *"
   ]
  },
  {
   "cell_type": "markdown",
   "metadata": {},
   "source": [
    "# Data loading and cleaning\n",
    "Replacing -999 by NaN"
   ]
  },
  {
   "cell_type": "code",
   "execution_count": 29,
   "metadata": {},
   "outputs": [
    {
     "name": "stdout",
     "output_type": "stream",
     "text": [
      "Train set shape  (250000, 30)\n",
      "Train set shape  (568238, 30)\n"
     ]
    }
   ],
   "source": [
    "[yb_t, input_data_t, ids_t, yb_test, input_data_test, ids_test] = pickle.load(open( \"dat.p\", \"rb\" ))\n",
    "input_clean = clean_data(input_data_t)\n",
    "test_clean = clean_data(input_data_test)\n",
    "\n",
    "print('Train set shape ', input_clean.shape)\n",
    "print('Test set shape ', test_clean.shape)"
   ]
  },
  {
   "cell_type": "markdown",
   "metadata": {
    "collapsed": true
   },
   "source": [
    "# Missing values analysis"
   ]
  },
  {
   "cell_type": "code",
   "execution_count": 111,
   "metadata": {},
   "outputs": [],
   "source": [
    "def count_missing_feature(tx):\n",
    "    sh = tx.shape\n",
    "    nan_mask = np.isnan(tx)\n",
    "    print('Fraction missing : ', np.sum(nan_mask)/(sh[0]*sh[1]))\n",
    "    features_missing = []\n",
    "    for j in range(sh[1]):\n",
    "        if nan_mask[:,j].any():\n",
    "            features_missing.append(j)\n",
    "    print('Missing features : ', features_missing)\n",
    "    fraction_by_feature=[]\n",
    "    for j in features_missing:\n",
    "        fraction_by_feature.append(np.sum(nan_mask[:,j])/sh[0])\n",
    "    print(fraction_by_feature)\n",
    "    type_of_missing = []\n",
    "    for i in range(sh[0]):\n",
    "        type_of_missing.append(''.join(['1'  if nan_mask[i,j] else '0' for j in range(sh[1])]))\n",
    "    type_of_missing = set(type_of_missing)\n",
    "    print('\\n'.join(type_of_missing))\n",
    "    return nan_mask"
   ]
  },
  {
   "cell_type": "code",
   "execution_count": 112,
   "metadata": {
    "scrolled": true
   },
   "outputs": [
    {
     "name": "stdout",
     "output_type": "stream",
     "text": [
      "Fraction missing :  0.2106736\n",
      "Missing features :  [0, 4, 5, 6, 12, 23, 24, 25, 26, 27, 28]\n",
      "[0.15245600000000001, 0.70982800000000001, 0.70982800000000001, 0.70982800000000001, 0.70982800000000001, 0.39965200000000001, 0.39965200000000001, 0.39965200000000001, 0.70982800000000001, 0.70982800000000001, 0.70982800000000001]\n",
      "000011100000100000000001111110\n",
      "000000000000000000000000000000\n",
      "100011100000100000000001111110\n",
      "100011100000100000000000001110\n",
      "000011100000100000000000001110\n",
      "100000000000000000000000000000\n"
     ]
    }
   ],
   "source": [
    "a = count_missing_feature(input_clean)"
   ]
  },
  {
   "cell_type": "code",
   "execution_count": 113,
   "metadata": {},
   "outputs": [
    {
     "name": "stdout",
     "output_type": "stream",
     "text": [
      "Fraction missing :  0.210500647029\n",
      "Missing features :  [0, 4, 5, 6, 12, 23, 24, 25, 26, 27, 28]\n",
      "[0.15220383008528116, 0.7088508688260905, 0.7088508688260905, 0.7088508688260905, 0.7088508688260905, 0.40028649967091257, 0.40028649967091257, 0.40028649967091257, 0.7088508688260905, 0.7088508688260905, 0.7088508688260905]\n",
      "000011100000100000000001111110\n",
      "000000000000000000000000000000\n",
      "100011100000100000000001111110\n",
      "100011100000100000000000001110\n",
      "000011100000100000000000001110\n",
      "100000000000000000000000000000\n"
     ]
    }
   ],
   "source": [
    "a = count_missing_feature(test_clean)\n"
   ]
  },
  {
   "cell_type": "code",
   "execution_count": 105,
   "metadata": {},
   "outputs": [
    {
     "data": {
      "text/plain": [
       "7"
      ]
     },
     "execution_count": 105,
     "metadata": {},
     "output_type": "execute_result"
    }
   ],
   "source": []
  },
  {
   "cell_type": "code",
   "execution_count": null,
   "metadata": {
    "collapsed": true
   },
   "outputs": [],
   "source": []
  },
  {
   "cell_type": "code",
   "execution_count": null,
   "metadata": {
    "collapsed": true
   },
   "outputs": [],
   "source": []
  },
  {
   "cell_type": "code",
   "execution_count": null,
   "metadata": {
    "collapsed": true
   },
   "outputs": [],
   "source": []
  },
  {
   "cell_type": "code",
   "execution_count": null,
   "metadata": {
    "collapsed": true
   },
   "outputs": [],
   "source": []
  },
  {
   "cell_type": "code",
   "execution_count": null,
   "metadata": {
    "collapsed": true
   },
   "outputs": [],
   "source": []
  }
 ],
 "metadata": {
  "kernelspec": {
   "display_name": "Python 3",
   "language": "python",
   "name": "python3"
  },
  "language_info": {
   "codemirror_mode": {
    "name": "ipython",
    "version": 3
   },
   "file_extension": ".py",
   "mimetype": "text/x-python",
   "name": "python",
   "nbconvert_exporter": "python",
   "pygments_lexer": "ipython3",
   "version": "3.6.1"
  }
 },
 "nbformat": 4,
 "nbformat_minor": 2
}
