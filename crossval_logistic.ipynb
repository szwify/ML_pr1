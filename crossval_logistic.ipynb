{
 "cells": [
  {
   "cell_type": "code",
   "execution_count": 43,
   "metadata": {},
   "outputs": [
    {
     "name": "stdout",
     "output_type": "stream",
     "text": [
      "The autoreload extension is already loaded. To reload it, use:\n",
      "  %reload_ext autoreload\n"
     ]
    }
   ],
   "source": [
    "import numpy as np\n",
    "import matplotlib.pyplot as plt\n",
    "import pickle\n",
    "from helpers import *\n",
    "from Model import *\n",
    "from cross_val import *\n",
    "%matplotlib inline\n",
    "%load_ext autoreload\n",
    "%autoreload 2"
   ]
  },
  {
   "cell_type": "markdown",
   "metadata": {},
   "source": [
    "# Data cleaning"
   ]
  },
  {
   "cell_type": "code",
   "execution_count": 2,
   "metadata": {},
   "outputs": [
    {
     "name": "stdout",
     "output_type": "stream",
     "text": [
      "Train set shape  (250000, 30)\n",
      "Test set shape  (568238, 30)\n"
     ]
    }
   ],
   "source": [
    "[yb_t, input_data_t, ids_t, yb_test, input_data_test, ids_test] = pickle.load(open( \"dat.p\", \"rb\" ))\n",
    "# Import full data\n",
    "#(yb_t, input_data_t, ids_t) = load_csv_data('data/train.csv', sub_sample = False)\n",
    "#(yb_test, input_data_test, ids_test) = load_csv_data('data/test.csv',sub_sample = False)\n",
    "\n",
    "# Replace missing data with nan\n",
    "tx_tr_clean = clean_data(input_data_t)\n",
    "y_tr_clean = clean_data(yb_t)\n",
    "tx_te_clean = clean_data(input_data_test)\n",
    "y_te_clean = clean_data(yb_test)\n",
    "\n",
    "y_tr_clean = np.array([0 if p<0 else 1 for p in y_tr_clean])\n",
    "print('Train set shape ', tx_tr_clean.shape)\n",
    "print('Test set shape ', tx_te_clean.shape)"
   ]
  },
  {
   "cell_type": "markdown",
   "metadata": {},
   "source": [
    "# Data processing"
   ]
  },
  {
   "cell_type": "code",
   "execution_count": 3,
   "metadata": {
    "collapsed": true
   },
   "outputs": [],
   "source": [
    "# Standardize data\n",
    "tx_tr, mean_tx_tr, std_tx_tr = standardize(tx_tr_clean)\n",
    "\n",
    "# Test data should be standardize wt respect to the mean and standard deviation of the training set\n",
    "tx_te = (tx_te_clean - mean_tx_tr)/std_tx_tr"
   ]
  },
  {
   "cell_type": "code",
   "execution_count": 4,
   "metadata": {
    "collapsed": true
   },
   "outputs": [],
   "source": [
    "# Replacing missing values by their respective mean for each feature (computing for the TRAINING set only!)\n",
    "def replaceByMeanPerFeature(input_tx_train, input_y_train, input_tx_test, input_y_test):\n",
    "    train_mean = np.nanmean(input_tx_train, axis=0) # Computes the mean per column without considering nan value\n",
    "    for ind, mean in enumerate(train_mean):\n",
    "        mask_tmp = np.isnan(input_tx_train[:,ind])\n",
    "        input_tx_train[mask_tmp, ind] = mean\n",
    "        mask_tmp = np.isnan(input_tx_test[:,ind])\n",
    "        input_tx_test[mask_tmp, ind] = mean\n",
    "    y_train = input_y_train\n",
    "    y_test = input_y_test\n",
    "    return input_tx_train, y_train, input_tx_test, y_test\n",
    "\n",
    "tx_tr, y_tr, tx_te, y_te = replaceByMeanPerFeature(tx_tr_clean, y_tr_clean, tx_te_clean, y_te_clean)"
   ]
  },
  {
   "cell_type": "code",
   "execution_count": 31,
   "metadata": {
    "collapsed": true
   },
   "outputs": [],
   "source": [
    "def build_poly(x, degree):\n",
    "    \"\"\"polynomial basis functions for input data x, for j=0 up to j=degree.\"\"\"\n",
    "    poly = np.ones((len(x), 1))\n",
    "    for deg in range(2, degree+1):\n",
    "        poly = np.c_[poly, np.power(x, deg)]\n",
    "    return poly[:, 1:]\n",
    "\n",
    "def augment_feat(input_tx_train, input_tx_test, degree):\n",
    "    n_features = len(input_tx_train[0])\n",
    "    for ind in range(0, n_features):\n",
    "        input_tx_train = np.c_[input_tx_train, build_poly(input_tx_train[:, ind], degree)]\n",
    "        input_tx_test = np.c_[input_tx_test, build_poly(input_tx_test[:, ind], degree)]\n",
    "    return input_tx_train, input_tx_test"
   ]
  },
  {
   "cell_type": "code",
   "execution_count": 32,
   "metadata": {},
   "outputs": [
    {
     "data": {
      "text/plain": [
       "array([[   2.,    3.,    4.,    4.,    8.,    9.,   27.,   16.,   64.],\n",
       "       [   4.,    5.,    6.,   16.,   64.,   25.,  125.,   36.,  216.]])"
      ]
     },
     "execution_count": 32,
     "metadata": {},
     "output_type": "execute_result"
    }
   ],
   "source": [
    "a = np.array([[2,3,4],\n",
    "     [4,5,6]])\n",
    "augment_feat(a,a, 3)[0]"
   ]
  },
  {
   "cell_type": "markdown",
   "metadata": {},
   "source": [
    "# Fit data with Ridge Regression with no feature augmentation"
   ]
  },
  {
   "cell_type": "code",
   "execution_count": 6,
   "metadata": {
    "collapsed": true
   },
   "outputs": [],
   "source": [
    "def cross_validation_visualization(lambds, mse_tr, mse_te):\n",
    "    \"\"\"visualization the curves of mse_tr and mse_te.\"\"\"\n",
    "    plt.semilogx(lambds, mse_tr, marker=\".\", color='b', label='train error')\n",
    "    plt.semilogx(lambds, mse_te, marker=\".\", color='r', label='test error')\n",
    "    plt.xlabel(\"lambda\")\n",
    "    plt.ylabel(\"rmse\")\n",
    "    plt.title(\"cross validation\")\n",
    "    plt.legend(loc=2)\n",
    "    plt.grid(True)\n",
    "    plt.savefig(\"cross_validation\")"
   ]
  },
  {
   "cell_type": "code",
   "execution_count": null,
   "metadata": {},
   "outputs": [
    {
     "name": "stdout",
     "output_type": "stream",
     "text": [
      "start_fitting\n",
      "batch\n",
      "start_fitting\n",
      "batch\n"
     ]
    }
   ],
   "source": [
    "%%time\n",
    "\n",
    "from Model import *\n",
    "\n",
    "def cross_validation_demo():\n",
    "    seed = 1\n",
    "    degree = 1\n",
    "    k_fold = 4\n",
    "    gammas = np.logspace(-15, 0, 5)\n",
    "    lambdas = np.logspace(-5,5,5)\n",
    "    \n",
    "    # split data in k fold\n",
    "    k_indices = build_k_indices(y_tr, k_fold, seed)\n",
    "    \n",
    "    # define lists to store the loss of training data and test data\n",
    "    rmse_tr = []\n",
    "    rmse_te = []\n",
    "    val = []\n",
    "    \n",
    "    # cross validation\n",
    "    for lambda_ in lambdas:\n",
    "        for gamma in gammas:\n",
    "            # define model\n",
    "            model = logistic_regression_SGD(lambda_ = lambda_, gamma = gamma,max_iters = 1)\n",
    "            losses_train, losses_test = cross_validation_logistic(model, y_tr, tx_tr, k_fold)\n",
    "            tmp_tr = np.mean(losses_train)\n",
    "            tmp_te = np.mean(losses_test)\n",
    "            rmse_tr.append(tmp_tr)\n",
    "            rmse_te.append(tmp_te)\n",
    "            val.append([lambda_, gamma])\n",
    "\n",
    "    print(np.min(rmse_te))\n",
    "    print(val[np.argmin(rmse_te)])\n",
    "    \n",
    "cross_validation_demo()"
   ]
  },
  {
   "cell_type": "code",
   "execution_count": 48,
   "metadata": {},
   "outputs": [
    {
     "name": "stdout",
     "output_type": "stream",
     "text": [
      "start_fitting\n",
      "batch\n",
      "batch\n",
      "batch\n",
      "batch\n",
      "batch\n",
      "batch\n",
      "batch\n",
      "batch\n",
      "batch\n",
      "batch\n"
     ]
    }
   ],
   "source": [
    "from Model import *\n",
    "model = logistic_regression_SGD(lambda_ = 1, gamma = 5e-8,max_iters = 10)\n",
    "model.fit(y_tr,tx_tr)"
   ]
  },
  {
   "cell_type": "markdown",
   "metadata": {},
   "source": [
    "# Fit data with Ridge Regression with data augmentation"
   ]
  },
  {
   "cell_type": "code",
   "execution_count": 10,
   "metadata": {
    "collapsed": true
   },
   "outputs": [],
   "source": [
    "tx_tr_in = tx_tr\n",
    "tx_te_in = tx_te"
   ]
  },
  {
   "cell_type": "code",
   "execution_count": 11,
   "metadata": {},
   "outputs": [
    {
     "name": "stdout",
     "output_type": "stream",
     "text": [
      "tx_tr.shape =  (250000, 90)\n",
      "tx_te_shape =  (568238, 90)\n"
     ]
    }
   ],
   "source": [
    "tx_tr, tx_te = augment_feat(tx_tr_in, tx_te_in, 2)\n",
    "print(\"tx_tr.shape = \", tx_tr.shape)\n",
    "print(\"tx_te_shape = \", tx_te.shape)"
   ]
  },
  {
   "cell_type": "code",
   "execution_count": 14,
   "metadata": {},
   "outputs": [
    {
     "name": "stdout",
     "output_type": "stream",
     "text": [
      "1476213.90553\n",
      "[1e-10, 9.9999999999999995e-21]\n",
      "Wall time: 2min 26s\n"
     ]
    }
   ],
   "source": [
    "%%time\n",
    "\n",
    "def cross_validation_demo():\n",
    "    seed = 1\n",
    "    degree = 1\n",
    "    k_fold = 4\n",
    "    gammas = np.logspace(-20, 0, 10)\n",
    "    lambdas = np.logspace(-10,5,10)\n",
    "    \n",
    "    # split data in k fold\n",
    "    k_indices = build_k_indices(y_tr, k_fold, seed)\n",
    "    \n",
    "    # define lists to store the loss of training data and test data\n",
    "    rmse_tr = []\n",
    "    rmse_te = []\n",
    "    var = []\n",
    "    # cross validation\n",
    "    for ind, lambda_ in enumerate(lambdas):\n",
    "        for gamma in gammas:\n",
    "            # define model\n",
    "            model = logistic_regression_SGD(lambda_ = lambda_, gamma = gamma,max_iters = 1)\n",
    "            losses_train, losses_test = cross_validation_logistic(model, y_tr, tx_tr, k_fold)\n",
    "            tmp_tr = np.mean(losses_train)\n",
    "            tmp_te = np.mean(losses_test)\n",
    "            rmse_tr.append(tmp_tr)\n",
    "            rmse_te.append(tmp_te)\n",
    "            var.append([lambda_,gamma])\n",
    "    #cross_validation_visualization(lambdas, rmse_tr, rmse_te)\n",
    "    \n",
    "    print(np.min(tmp_te))\n",
    "    print(var[np.argmin(tmp_te)])\n",
    "cross_validation_demo()"
   ]
  },
  {
   "cell_type": "markdown",
   "metadata": {},
   "source": [
    "# Fit data with Ridge Regression and augmenting features using log"
   ]
  },
  {
   "cell_type": "code",
   "execution_count": 18,
   "metadata": {
    "collapsed": true
   },
   "outputs": [],
   "source": [
    "def build_poly_log(x):\n",
    "    \"\"\"polynomial basis functions for input data x, for j=0 up to j=degree.\"\"\"\n",
    "    poly_log = np.ones((len(x), 1))\n",
    "    poly_log = np.c_[poly_log, np.sqrt(np.abs(x))]\n",
    "    return poly_log[:, 1:]\n",
    "\n",
    "def augment_feat_log(input_tx_train, input_tx_test):\n",
    "    n_features = len(input_tx_train[0])\n",
    "    for ind in range(0, n_features):\n",
    "        input_tx_train = np.c_[input_tx_train, build_poly_log(input_tx_train[:, ind])]\n",
    "        input_tx_test = np.c_[input_tx_test, build_poly_log(input_tx_test[:, ind])]\n",
    "    return input_tx_train, input_tx_test"
   ]
  },
  {
   "cell_type": "code",
   "execution_count": 19,
   "metadata": {},
   "outputs": [
    {
     "name": "stdout",
     "output_type": "stream",
     "text": [
      "tx_tr.shape =  (250000, 60)\n",
      "tx_te_shape =  (568238, 60)\n"
     ]
    }
   ],
   "source": [
    "tx_tr, tx_te = augment_feat_log(tx_tr_in, tx_te_in)\n",
    "print(\"tx_tr.shape = \", tx_tr.shape)\n",
    "print(\"tx_te_shape = \", tx_te.shape)"
   ]
  },
  {
   "cell_type": "code",
   "execution_count": 20,
   "metadata": {},
   "outputs": [
    {
     "data": {
      "image/png": "[encoded data removed]",
      "text/plain": [
       "<matplotlib.figure.Figure at 0x1f6c2a67d30>"
      ]
     },
     "metadata": {},
     "output_type": "display_data"
    }
   ],
   "source": [
    "def cross_validation_demo():\n",
    "    seed = 1\n",
    "    degree = 1\n",
    "    k_fold = 4\n",
    "    gammas = np.logspace(-10, -5, 10)\n",
    "    \n",
    "    # split data in k fold\n",
    "    k_indices = build_k_indices(y_tr, k_fold, seed)\n",
    "    \n",
    "    # define lists to store the loss of training data and test data\n",
    "    rmse_tr = []\n",
    "    rmse_te = []\n",
    "    \n",
    "    # cross validation\n",
    "    for ind, gammas in enumerate(gammas):\n",
    "        # define model\n",
    "        model = ridge_regression(lambda_)\n",
    "        losses_train, losses_test = cross_validation(model, y_tr, tx_tr, k_fold)\n",
    "        tmp_tr = np.mean(losses_train)\n",
    "        tmp_te = np.mean(losses_test)\n",
    "        rmse_tr.append(tmp_tr)\n",
    "        rmse_te.append(tmp_te)\n",
    "    cross_validation_visualization(lambdas, rmse_tr, rmse_te)\n",
    "\n",
    "cross_validation_demo()"
   ]
  },
  {
   "cell_type": "code",
   "execution_count": 34,
   "metadata": {
    "collapsed": true
   },
   "outputs": [],
   "source": [
    "y_tr_rfdf = np.array([0 if p<0 else 1 for p in y_tr])"
   ]
  },
  {
   "cell_type": "code",
   "execution_count": 35,
   "metadata": {
    "collapsed": true
   },
   "outputs": [],
   "source": [
    "\n",
    "model = ridge_regression(1e-5)\n",
    "model.fit(y_tr_rfdf, tx_tr)\n",
    "y_pred_test = model.predict(tx_te)"
   ]
  },
  {
   "cell_type": "code",
   "execution_count": 36,
   "metadata": {},
   "outputs": [
    {
     "data": {
      "text/plain": [
       "-249514"
      ]
     },
     "execution_count": 36,
     "metadata": {},
     "output_type": "execute_result"
    }
   ],
   "source": [
    "y_pred_bin = np.array([-1 if p<0.5 else 1 for p in y_pred_test])\n",
    "np.sum(y_pred_bin)"
   ]
  },
  {
   "cell_type": "code",
   "execution_count": 37,
   "metadata": {
    "collapsed": true,
    "scrolled": true
   },
   "outputs": [],
   "source": [
    "create_csv_submission(ids_test, y_pred_bin, 'sub3.csv')"
   ]
  },
  {
   "cell_type": "code",
   "execution_count": null,
   "metadata": {
    "collapsed": true
   },
   "outputs": [],
   "source": []
  }
 ],
 "metadata": {
  "kernelspec": {
   "display_name": "Python 3",
   "language": "python",
   "name": "python3"
  },
  "language_info": {
   "codemirror_mode": {
    "name": "ipython",
    "version": 3
   },
   "file_extension": ".py",
   "mimetype": "text/x-python",
   "name": "python",
   "nbconvert_exporter": "python",
   "pygments_lexer": "ipython3",
   "version": "3.6.1"
  }
 },
 "nbformat": 4,
 "nbformat_minor": 2
}
