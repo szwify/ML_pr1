{
 "cells": [
  {
   "cell_type": "code",
   "execution_count": 1,
   "metadata": {
    "collapsed": true
   },
   "outputs": [],
   "source": [
    "import numpy as np\n",
    "import matplotlib.pyplot as plt\n",
    "import pickle\n",
    "from implementations import *\n",
    "from helpers import *\n",
    "from Model import *"
   ]
  },
  {
   "cell_type": "code",
   "execution_count": 39,
   "metadata": {
    "collapsed": true
   },
   "outputs": [],
   "source": [
    "[yb_t, input_data_t, ids_t, yb_test, input_data_test, ids_test] = pickle.load(open( \"dat.p\", \"rb\" ))\n",
    "input_clean = clean_data(input_data_t)\n",
    "test_clean = clean_data(input_data_test)"
   ]
  },
  {
   "cell_type": "code",
   "execution_count": 40,
   "metadata": {
    "collapsed": true
   },
   "outputs": [],
   "source": [
    "def replaceByMeanPerFeature(input_tx_train, input_y_train, input_tx_test, input_y_test):\n",
    "    train_mean = np.nanmean(input_tx_train, axis=0) # Computes the mean per column without considering nan value\n",
    "    for ind, mean in enumerate(train_mean):\n",
    "        mask_tmp = np.isnan(input_tx_train[:,ind])\n",
    "        input_tx_train[mask_tmp, ind] = mean\n",
    "        mask_tmp = np.isnan(input_tx_test[:,ind])\n",
    "        input_tx_test[mask_tmp, ind] = mean\n",
    "    y_train = input_y_train\n",
    "    y_test = input_y_test\n",
    "    return input_tx_train, y_train, input_tx_test, y_test\n"
   ]
  },
  {
   "cell_type": "code",
   "execution_count": 41,
   "metadata": {
    "collapsed": true
   },
   "outputs": [],
   "source": [
    "input_tx_train, y_train, input_tx_test, y_test = replaceByMeanPerFeature(input_clean, yb_t, test_clean, yb_test)\n"
   ]
  },
  {
   "cell_type": "code",
   "execution_count": 42,
   "metadata": {
    "collapsed": true
   },
   "outputs": [],
   "source": [
    "def build_poly(x, degree):\n",
    "    \"\"\"polynomial basis functions for input data x, for j=0 up to j=degree.\"\"\"\n",
    "    poly = np.ones((len(x), 1))\n",
    "    for deg in range(1, degree+1):\n",
    "        poly = np.c_[poly, np.power(x, deg)]\n",
    "    return poly[:, 1:]\n",
    "\n",
    "def augment_feat(input_tx_train, input_tx_test, degree):\n",
    "    n_features = len(input_tx_train[0])\n",
    "    for ind in range(1, n_features):\n",
    "        input_tx_train = np.c_[input_tx_train, build_poly(input_tx_train[:, ind], degree)]\n",
    "        input_tx_test = np.c_[input_tx_test, build_poly(input_tx_test[:, ind], degree)]\n",
    "    return input_tx_train, input_tx_test\n",
    "\n",
    "def augment_feat_no_test(input_tx_train, degree):\n",
    "    n_features = len(input_tx_train[0])\n",
    "    for ind in range(1, n_features):\n",
    "        input_tx_train = np.c_[input_tx_train, build_poly(input_tx_train[:, ind], degree)]\n",
    "    return input_tx_train\n",
    "\n"
   ]
  },
  {
   "cell_type": "code",
   "execution_count": 96,
   "metadata": {},
   "outputs": [
    {
     "name": "stdout",
     "output_type": "stream",
     "text": [
      "Wall time: 3min 26s\n"
     ]
    }
   ],
   "source": [
    "%%time\n",
    "from cross_val import *\n",
    "\n",
    "#SGD.fit(y_train, tx_std)\n",
    "lambdas = np.logspace(-5, 3, 10)\n",
    "polys = [1,2,3]\n",
    "results = {}\n",
    "for lambda_ in lambdas:\n",
    "    for poly in polys:\n",
    "        input_tx_train_pol = augment_feat_no_test(input_tx_train, poly)\n",
    "        tx_std, mean_x, std_x = standardize(input_tx_train_pol)\n",
    "        mod = ridge_regression(lambda_)\n",
    "        loss_tr, loss_te = cross_validation(mod,y_train,tx_std, 5)\n",
    "        results[(lambda_,poly)] = [np.mean(loss_tr),np.mean(loss_te)]\n"
   ]
  },
  {
   "cell_type": "code",
   "execution_count": 101,
   "metadata": {},
   "outputs": [
    {
     "data": {
      "text/plain": [
       "{(1.0000000000000001e-05, 1): [1.7020086240404472e-06, 6.8098810961785722e-06],\n",
       " (1.0000000000000001e-05, 2): [1.6179136222371208e-06, 7.6762463021471168e-06],\n",
       " (1.0000000000000001e-05, 3): [1.8797998650812013e-06, 9.8489093334474093e-06],\n",
       " (7.7426368268112782e-05, 1): [1.7020086244964167e-06, 6.8098810891704706e-06],\n",
       " (7.7426368268112782e-05, 2): [1.6420878924098374e-06, 7.9698863967679284e-06],\n",
       " (7.7426368268112782e-05, 3): [1.9011499371405919e-06, 1.5142194715616689e-05],\n",
       " (0.00059948425031894088, 1): [1.702008651761534e-06, 6.8098811299105421e-06],\n",
       " (0.00059948425031894088, 2): [1.6883558204705868e-06, 8.5149464417336294e-06],\n",
       " (0.00059948425031894088, 3): [1.9951016068420692e-06, 1.0990933496121401e-05],\n",
       " (0.0046415888336127772, 1): [1.7020102544603255e-06, 6.8098870153062818e-06],\n",
       " (0.0046415888336127772, 2): [1.7298846122932464e-06, 8.618337959009681e-06],\n",
       " (0.0046415888336127772, 3): [2.0885203832540082e-06, 9.031415589732006e-06],\n",
       " (0.035938136638046257, 1): [1.7020933132805587e-06, 6.8102153695425591e-06],\n",
       " (0.035938136638046257, 2): [1.7814415028747303e-06, 8.075069145535729e-06],\n",
       " (0.035938136638046257, 3): [2.1194064701175427e-06, 1.1314716583588742e-05],\n",
       " (0.27825594022071259, 1): [1.7042103848407305e-06, 6.8186590747313765e-06],\n",
       " (0.27825594022071259, 2): [1.9058279351045707e-06, 8.1193604246454833e-06],\n",
       " (0.27825594022071259, 3): [2.1386487783802579e-06, 1.5945406430755212e-05],\n",
       " (2.154434690031882, 1): [1.7162050238223497e-06, 6.8665411780581754e-06],\n",
       " (2.154434690031882, 2): [1.9912953987717643e-06, 8.4479862963647863e-06],\n",
       " (2.154434690031882, 3): [2.169644318087637e-06, 1.5439683166964686e-05],\n",
       " (16.681005372000556, 1): [1.7539798140182873e-06, 7.0175350844545483e-06],\n",
       " (16.681005372000556, 2): [2.0211348509456251e-06, 8.5610379764102854e-06],\n",
       " (16.681005372000556, 3): [2.1849731218628467e-06, 1.1997206351409556e-05],\n",
       " (129.15496650148827, 1): [1.7931468510046102e-06, 7.1739160004825424e-06],\n",
       " (129.15496650148827, 2): [2.0276699028469253e-06, 8.4620210105116268e-06],\n",
       " (129.15496650148827, 3): [2.1929963804623064e-06, 1.0914838989193617e-05],\n",
       " (1000.0, 1): [1.8081367670465245e-06, 7.2336121604167908e-06],\n",
       " (1000.0, 2): [2.0421374849743902e-06, 8.2985810693498571e-06],\n",
       " (1000.0, 3): [2.209228634771527e-06, 9.9222211000146083e-06]}"
      ]
     },
     "execution_count": 101,
     "metadata": {},
     "output_type": "execute_result"
    }
   ],
   "source": [
    "results"
   ]
  },
  {
   "cell_type": "code",
   "execution_count": 102,
   "metadata": {},
   "outputs": [
    {
     "data": {
      "text/plain": [
       "6.8098810891704706e-06"
      ]
     },
     "execution_count": 102,
     "metadata": {},
     "output_type": "execute_result"
    }
   ],
   "source": [
    "np.min([results[key][1] for key in results])"
   ]
  },
  {
   "cell_type": "code",
   "execution_count": 74,
   "metadata": {},
   "outputs": [
    {
     "data": {
      "image/png": "[encoded data removed]",
      "text/plain": [
       "<matplotlib.figure.Figure at 0x502bb3c8>"
      ]
     },
     "metadata": {},
     "output_type": "display_data"
    }
   ],
   "source": [
    "%matplotlib inline\n",
    "plt.figure()\n",
    "for i in [4]:\n",
    "    plt.semilogx(results[:,0,0], results[:,i-1,1], label = 'Tr poly : '+str(i))\n",
    "    plt.semilogx(results[:,0,0], results[:,i-1,2], label ='Te poly : '+str(i))\n",
    "plt.legend()    \n",
    "plt.show()"
   ]
  },
  {
   "cell_type": "code",
   "execution_count": 108,
   "metadata": {},
   "outputs": [
    {
     "name": "stdout",
     "output_type": "stream",
     "text": [
      "Wall time: 3.9 s\n"
     ]
    }
   ],
   "source": [
    "%%time\n",
    "input_tx_train_pol = augment_feat_no_test(input_tx_train, 1)\n",
    "tx_std, mean_x, std_x = standardize(input_tx_train_pol)"
   ]
  },
  {
   "cell_type": "code",
   "execution_count": 109,
   "metadata": {},
   "outputs": [
    {
     "name": "stdout",
     "output_type": "stream",
     "text": [
      "Wall time: 212 ms\n"
     ]
    }
   ],
   "source": [
    "%%time\n",
    "ridge = ridge_regression(7.7426368268112782e-05)\n",
    "ridge.fit(y_train, tx_std)"
   ]
  },
  {
   "cell_type": "code",
   "execution_count": 111,
   "metadata": {},
   "outputs": [
    {
     "name": "stdout",
     "output_type": "stream",
     "text": [
      "Wall time: 8.99 s\n"
     ]
    }
   ],
   "source": [
    "%%time\n",
    "input_tx_te_pol = augment_feat_no_test(input_tx_test, 1)\n",
    "tx_te_std = (input_tx_te_pol-mean_x)/mean_x"
   ]
  },
  {
   "cell_type": "code",
   "execution_count": 112,
   "metadata": {},
   "outputs": [],
   "source": [
    "y_pred_test = ridge.predict(input_tx_te_pol)"
   ]
  },
  {
   "cell_type": "code",
   "execution_count": 113,
   "metadata": {},
   "outputs": [
    {
     "data": {
      "text/plain": [
       "545190"
      ]
     },
     "execution_count": 113,
     "metadata": {},
     "output_type": "execute_result"
    }
   ],
   "source": [
    "y_pred_bin = np.array([-1 if p<0 else 1 for p in y_pred_test])\n",
    "np.sum(y_pred_bin)"
   ]
  },
  {
   "cell_type": "code",
   "execution_count": 114,
   "metadata": {
    "collapsed": true,
    "scrolled": true
   },
   "outputs": [],
   "source": [
    "create_csv_submission(ids_test, y_pred_bin, 'sub3.csv')"
   ]
  },
  {
   "cell_type": "code",
   "execution_count": 106,
   "metadata": {},
   "outputs": [
    {
     "data": {
      "text/plain": [
       "(250000, 59)"
      ]
     },
     "execution_count": 106,
     "metadata": {},
     "output_type": "execute_result"
    }
   ],
   "source": [
    "input_tx_train_pol.shape"
   ]
  },
  {
   "cell_type": "code",
   "execution_count": null,
   "metadata": {
    "collapsed": true
   },
   "outputs": [],
   "source": []
  }
 ],
 "metadata": {
  "kernelspec": {
   "display_name": "Python 3",
   "language": "python",
   "name": "python3"
  },
  "language_info": {
   "codemirror_mode": {
    "name": "ipython",
    "version": 3
   },
   "file_extension": ".py",
   "mimetype": "text/x-python",
   "name": "python",
   "nbconvert_exporter": "python",
   "pygments_lexer": "ipython3",
   "version": "3.6.1"
  }
 },
 "nbformat": 4,
 "nbformat_minor": 2
}
