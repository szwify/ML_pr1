{
 "cells": [
  {
   "cell_type": "code",
   "execution_count": 1,
   "metadata": {},
   "outputs": [],
   "source": [
    "import numpy as np\n",
    "import matplotlib.pyplot as plt\n",
    "import pickle\n",
    "from helpers import *\n",
    "from Model import *\n",
    "from cross_val import *\n",
    "%matplotlib inline\n",
    "\n",
    "from helpersLogistic import de_standardize\n",
    "from plotsLogistic import *"
   ]
  },
  {
   "cell_type": "markdown",
   "metadata": {},
   "source": [
    "# Data cleaning"
   ]
  },
  {
   "cell_type": "code",
   "execution_count": 2,
   "metadata": {},
   "outputs": [
    {
     "name": "stdout",
     "output_type": "stream",
     "text": [
      "Train set shape  (250000, 30)\n",
      "Test set shape  (568238, 30)\n"
     ]
    }
   ],
   "source": [
    "#[yb_t, input_data_t, ids_t, yb_test, input_data_test, ids_test] = pickle.load(open( \"dat.p\", \"rb\" ))\n",
    "# Import full data\n",
    "(yb_t, input_data_t, ids_t) = load_csv_data('data/train.csv', sub_sample = False)\n",
    "(yb_test, input_data_test, ids_test) = load_csv_data('data/test.csv',sub_sample = False)\n",
    "\n",
    "# Replace missing data with nan\n",
    "tx_tr_clean = clean_data(input_data_t)\n",
    "y_tr_clean = clean_data(yb_t)\n",
    "tx_te_clean = clean_data(input_data_test)\n",
    "y_te_clean = clean_data(yb_test)\n",
    "\n",
    "print('Train set shape ', tx_tr_clean.shape)\n",
    "print('Test set shape ', tx_te_clean.shape)"
   ]
  },
  {
   "cell_type": "markdown",
   "metadata": {},
   "source": [
    "# Data processing"
   ]
  },
  {
   "cell_type": "code",
   "execution_count": 3,
   "metadata": {},
   "outputs": [
    {
     "name": "stdout",
     "output_type": "stream",
     "text": [
      "tx_tr_cat.shape =  (250000, 4)\n",
      "tx_tr_cat[:,0] =  [0 0 0 ..., 0 1 1]\n",
      "tx_tr_cat[:,1] =  [0 1 1 ..., 1 0 0]\n",
      "tx_tr_cat[:,2] =  [1 0 0 ..., 0 0 0]\n",
      "tx_tr_cat[:,3] =  [0 0 0 ..., 0 0 0]\n"
     ]
    }
   ],
   "source": [
    "# Extend categorical variable into three features\n",
    "def extendCategorical(input_tx_train, input_tx_test):\n",
    "    mask_tr_0 = (input_tx_train[:,22] == 0).astype(int).reshape((-1, 1))\n",
    "    mask_tr_1 = (input_tx_train[:,22] == 1).astype(int).reshape((-1, 1))\n",
    "    mask_tr_2 = (input_tx_train[:,22] == 2).astype(int).reshape((-1, 1))\n",
    "    mask_tr_3 = (input_tx_train[:,22] == 3).astype(int).reshape((-1, 1))\n",
    "    mask_te_0 = (input_tx_test[:,22] == 0).astype(int).reshape((-1, 1))\n",
    "    mask_te_1 = (input_tx_test[:,22] == 1).astype(int).reshape((-1, 1))\n",
    "    mask_te_2 = (input_tx_test[:,22] == 2).astype(int).reshape((-1, 1))\n",
    "    mask_te_3 = (input_tx_test[:,22] == 3).astype(int).reshape((-1, 1))\n",
    "    tx_train_cat = np.concatenate((mask_tr_0, mask_tr_1, mask_tr_2, mask_tr_3), axis = 1)\n",
    "    tx_test_cat = np.concatenate((mask_te_0, mask_te_1, mask_te_2, mask_te_3), axis = 1)\n",
    "    return tx_train_cat, tx_test_cat\n",
    "\n",
    "# Arrays representing the categorical variable for both tx_train and tx_test\n",
    "tx_tr_cat, tx_te_cat = extendCategorical(tx_tr_clean, tx_te_clean)\n",
    "print(\"tx_tr_cat.shape = \", tx_tr_cat.shape)\n",
    "print(\"tx_tr_cat[:,0] = \", tx_tr_cat[:, 0])\n",
    "print(\"tx_tr_cat[:,1] = \", tx_tr_cat[:, 1])\n",
    "print(\"tx_tr_cat[:,2] = \", tx_tr_cat[:, 2])\n",
    "print(\"tx_tr_cat[:,3] = \", tx_tr_cat[:, 3])"
   ]
  },
  {
   "cell_type": "code",
   "execution_count": 4,
   "metadata": {},
   "outputs": [],
   "source": [
    "# Replacing missing values by their respective mean for each feature (computing for the TRAINING set only!)\n",
    "def replaceByMeanPerFeature(input_tx_train, input_y_train, input_tx_test, input_y_test):\n",
    "    train_mean = np.nanmean(input_tx_train, axis=0) # Computes the mean per column without considering nan value\n",
    "    for ind, mean in enumerate(train_mean):\n",
    "        mask_tmp = np.isnan(input_tx_train[:,ind])\n",
    "        input_tx_train[mask_tmp, ind] = mean\n",
    "        mask_tmp = np.isnan(input_tx_test[:,ind])\n",
    "        input_tx_test[mask_tmp, ind] = mean\n",
    "    y_train = input_y_train\n",
    "    y_test = input_y_test\n",
    "    return input_tx_train, y_train, input_tx_test, y_test\n",
    "\n",
    "# We compute the mean per feature on the initial array\n",
    "tx_tr_m, y_tr, tx_te_m, y_te = replaceByMeanPerFeature(tx_tr_clean, y_tr_clean, tx_te_clean, y_te_clean)"
   ]
  },
  {
   "cell_type": "code",
   "execution_count": 5,
   "metadata": {},
   "outputs": [
    {
     "name": "stdout",
     "output_type": "stream",
     "text": [
      "tx_tr_m[:,22] =  [ 2.  1.  1. ...,  1.  0.  0.]\n",
      "tx_te_m[:,22] =  [ 0.  1.  0. ...,  0.  1.  0.]\n",
      "tx_tr_wt_cat.shape =  (250000, 33)\n",
      "tx_tr_wt_cat[:,29] =  [ 0.  0.  0. ...,  0.  1.  1.]\n",
      "tx_tr_wt_cat[:,30] =  [ 0.  1.  1. ...,  1.  0.  0.]\n",
      "tx_tr_wt_cat[:,31] =  [ 1.  0.  0. ...,  0.  0.  0.]\n",
      "tx_tr_wt_cat[:,32] =  [ 0.  0.  0. ...,  0.  0.  0.]\n"
     ]
    }
   ],
   "source": [
    "# Standardize data\n",
    "print(\"tx_tr_m[:,22] = \", tx_tr_m[:,22])\n",
    "# We delete the column 22 which doesn't mean anything\n",
    "tx_tr = np.delete(tx_tr_m, 22, axis=1)\n",
    "tx_tr_std, mean_tx_tr, std_tx_tr = standardize(tx_tr)\n",
    "\n",
    "# Test data should be standardize wt respect to the mean and standard deviation of the training set\n",
    "print(\"tx_te_m[:,22] = \", tx_te_m[:,22])\n",
    "# We delete the column 22 which doesn't mean anything\n",
    "tx_te = np.delete(tx_te_m, 22, axis=1)\n",
    "tx_te_std = (tx_te - mean_tx_tr)/std_tx_tr\n",
    "\n",
    "tx_tr_wt_cat = np.concatenate((tx_tr_std, tx_tr_cat), axis=1)\n",
    "tx_te_wt_cat = np.concatenate((tx_te_std, tx_te_cat), axis = 1)\n",
    "print(\"tx_tr_wt_cat.shape = \", tx_tr_wt_cat.shape)\n",
    "print(\"tx_tr_wt_cat[:,29] = \", tx_tr_wt_cat[:, 29])\n",
    "print(\"tx_tr_wt_cat[:,30] = \", tx_tr_wt_cat[:, 30])\n",
    "print(\"tx_tr_wt_cat[:,31] = \", tx_tr_wt_cat[:, 31])\n",
    "print(\"tx_tr_wt_cat[:,32] = \", tx_tr_wt_cat[:, 32])\n",
    "y_tr = np.array([0 if p<0 else 1 for p in y_tr])"
   ]
  },
  {
   "cell_type": "code",
   "execution_count": 6,
   "metadata": {
    "collapsed": true
   },
   "outputs": [],
   "source": [
    "def build_poly(x, degree):\n",
    "    \"\"\"polynomial basis functions for input data x, for j=0 up to j=degree.\"\"\"\n",
    "    poly = np.ones((len(x), 1))\n",
    "    for deg in range(2, degree+1):\n",
    "        poly = np.c_[poly, np.power(x, deg)]\n",
    "    return poly[:, 1:]\n",
    "\n",
    "def augment_feat(input_tx_train, input_tx_test, degree):\n",
    "    n_features = len(input_tx_train[0])\n",
    "    for ind in range(0, n_features):\n",
    "        input_tx_train = np.c_[input_tx_train, build_poly(input_tx_train[:, ind], degree)]\n",
    "        input_tx_test = np.c_[input_tx_test, build_poly(input_tx_test[:, ind], degree)]\n",
    "    return input_tx_train, input_tx_test"
   ]
  },
  {
   "cell_type": "markdown",
   "metadata": {},
   "source": [
    "# Fit data with Ridge Regression with no feature augmentation"
   ]
  },
  {
   "cell_type": "code",
   "execution_count": 7,
   "metadata": {
    "collapsed": true
   },
   "outputs": [],
   "source": [
    "from Model import ridge_regression"
   ]
  },
  {
   "cell_type": "code",
   "execution_count": 8,
   "metadata": {
    "collapsed": true
   },
   "outputs": [],
   "source": [
    "def cross_validation_visualization(lambds, mse_tr, mse_te):\n",
    "    \"\"\"visualization the curves of mse_tr and mse_te.\"\"\"\n",
    "    plt.semilogx(lambds, mse_tr, marker=\".\", color='b', label='train error')\n",
    "    plt.semilogx(lambds, mse_te, marker=\".\", color='r', label='test error')\n",
    "    plt.xlabel(\"lambda\")\n",
    "    plt.ylabel(\"rmse\")\n",
    "    plt.title(\"cross validation\")\n",
    "    plt.legend(loc=2)\n",
    "    plt.grid(True)\n",
    "    plt.savefig(\"cross_validation\")"
   ]
  },
  {
   "cell_type": "code",
   "execution_count": 9,
   "metadata": {},
   "outputs": [
    {
     "name": "stdout",
     "output_type": "stream",
     "text": [
      "min_rmse_te =  0.00164458799392\n"
     ]
    },
    {
     "data": {
      "image/png": "[encoded data removed]",
      "text/plain": [
       "<matplotlib.figure.Figure at 0x1e457017b38>"
      ]
     },
     "metadata": {},
     "output_type": "display_data"
    }
   ],
   "source": [
    "def cross_validation_demo():\n",
    "    seed = 1\n",
    "    degree = 1\n",
    "    k_fold = 4\n",
    "    lambdas = np.logspace(-4, 3, 30)\n",
    "    \n",
    "    # split data in k fold\n",
    "    k_indices = build_k_indices(y_tr, k_fold, seed)\n",
    "    \n",
    "    # define lists to store the loss of training data and test data\n",
    "    rmse_tr = []\n",
    "    rmse_te = []\n",
    "    \n",
    "    # cross validation\n",
    "    for ind, lambda_ in enumerate(lambdas):\n",
    "        # define model\n",
    "        model = ridge_regression(lambda_)\n",
    "        losses_train, losses_test = cross_validation(model, y_tr, tx_tr_wt_cat, k_fold)\n",
    "        tmp_tr = np.mean(losses_train)\n",
    "        tmp_te = np.mean(losses_test)\n",
    "        rmse_tr.append(tmp_tr)\n",
    "        rmse_te.append(tmp_te)\n",
    "    print(\"min_rmse_te = \", np.min(rmse_te))\n",
    "    cross_validation_visualization(lambdas, rmse_tr, rmse_te)\n",
    "\n",
    "cross_validation_demo()"
   ]
  },
  {
   "cell_type": "markdown",
   "metadata": {},
   "source": [
    "# Fit data with Ridge Regression with data augmentation"
   ]
  },
  {
   "cell_type": "code",
   "execution_count": 10,
   "metadata": {},
   "outputs": [
    {
     "name": "stdout",
     "output_type": "stream",
     "text": [
      "tx_tr_in[0] =  [  1.38470000e+02   5.16550000e+01   9.78270000e+01   2.79800000e+01\n",
      "   9.10000000e-01   1.24711000e+02   2.66600000e+00   3.06400000e+00\n",
      "   4.19280000e+01   1.97760000e+02   1.58200000e+00   1.39600000e+00\n",
      "   2.00000000e-01   3.26380000e+01   1.01700000e+00   3.81000000e-01\n",
      "   5.16260000e+01   2.27300000e+00  -2.41400000e+00   1.68240000e+01\n",
      "  -2.77000000e-01   2.58733000e+02   6.74350000e+01   2.15000000e+00\n",
      "   4.44000000e-01   4.60620000e+01   1.24000000e+00  -2.47500000e+00\n",
      "   1.13497000e+02]\n",
      "tx_te_in[0] =  [  1.21858528e+02   7.95890000e+01   2.39160000e+01   3.03600000e+00\n",
      "   2.40373503e+00   3.71783360e+02  -8.21688171e-01   9.03000000e-01\n",
      "   3.03600000e+00   5.60180000e+01   1.53600000e+00  -1.40400000e+00\n",
      "   4.58289801e-01   2.20880000e+01  -5.40000000e-01  -6.09000000e-01\n",
      "   3.39300000e+01  -5.04000000e-01  -1.51100000e+00   4.85090000e+01\n",
      "   2.02200000e+00   9.85560000e+01   8.48221045e+01  -3.27458741e-03\n",
      "  -1.23928255e-02   5.76794744e+01  -1.18452642e-02  -1.58228913e-03\n",
      "   0.00000000e+00]\n"
     ]
    }
   ],
   "source": [
    "tx_tr_in = np.copy(tx_tr)\n",
    "tx_te_in = np.copy(tx_te)\n",
    "print(\"tx_tr_in[0] = \", tx_tr_in[0])\n",
    "print(\"tx_te_in[0] = \", tx_te_in[0])"
   ]
  },
  {
   "cell_type": "code",
   "execution_count": 11,
   "metadata": {},
   "outputs": [
    {
     "name": "stdout",
     "output_type": "stream",
     "text": [
      "tx_tr_wt_cat.shape =  (250000, 91)\n"
     ]
    }
   ],
   "source": [
    "tx_tr, tx_te = augment_feat(tx_tr_in, tx_te_in, 3)\n",
    "tx_tr_wt_cat = np.concatenate((tx_tr, tx_tr_cat), axis=1)\n",
    "tx_te_wt_cat = np.concatenate((tx_te, tx_te_cat), axis = 1)\n",
    "print(\"tx_tr_wt_cat.shape = \", tx_tr_wt_cat.shape)"
   ]
  },
  {
   "cell_type": "code",
   "execution_count": 12,
   "metadata": {},
   "outputs": [
    {
     "name": "stdout",
     "output_type": "stream",
     "text": [
      "min_rmse_te =  0.00647316608912\n"
     ]
    },
    {
     "data": {
      "image/png": "[encoded data removed]",
      "text/plain": [
       "<matplotlib.figure.Figure at 0x1e44c29bdd8>"
      ]
     },
     "metadata": {},
     "output_type": "display_data"
    }
   ],
   "source": [
    "def cross_validation_demo():\n",
    "    seed = 1\n",
    "    degree = 1\n",
    "    k_fold = 4\n",
    "    lambdas = np.logspace(-6, 5, 30)\n",
    "    \n",
    "    # split data in k fold\n",
    "    k_indices = build_k_indices(y_tr, k_fold, seed)\n",
    "    \n",
    "    # define lists to store the loss of training data and test data\n",
    "    rmse_tr = []\n",
    "    rmse_te = []\n",
    "    \n",
    "    # cross validation\n",
    "    for ind, lambda_ in enumerate(lambdas):\n",
    "        # define model\n",
    "        model = ridge_regression(lambda_)\n",
    "        losses_train, losses_test = cross_validation(model, y_tr, tx_tr_wt_cat, k_fold)\n",
    "        tmp_tr = np.mean(losses_train)\n",
    "        tmp_te = np.mean(losses_test)\n",
    "        rmse_tr.append(tmp_tr)\n",
    "        rmse_te.append(tmp_te)\n",
    "    print(\"min_rmse_te = \", np.min(rmse_te))\n",
    "    cross_validation_visualization(lambdas, rmse_tr, rmse_te)\n",
    "\n",
    "cross_validation_demo()\n"
   ]
  },
  {
   "cell_type": "markdown",
   "metadata": {},
   "source": [
    "# Fit data with Ridge Regression and augmenting features using square root of absolute value"
   ]
  },
  {
   "cell_type": "code",
   "execution_count": 13,
   "metadata": {
    "collapsed": true
   },
   "outputs": [],
   "source": [
    "def build_sqrt(x):\n",
    "    \"\"\"polynomial basis functions for input data x, for j=0 up to j=degree.\"\"\"\n",
    "    sqrt = np.ones((len(x), 1))\n",
    "    sqrt = np.c_[sqrt, np.sqrt(np.abs(x))]\n",
    "    return sqrt[:, 1:]\n",
    "\n",
    "def augment_feat_sqrt(input_tx_train, input_tx_test):\n",
    "    n_features = len(input_tx_train[0])\n",
    "    for ind in range(0, n_features):\n",
    "        input_tx_train = np.c_[input_tx_train, build_sqrt(input_tx_train[:, ind])]\n",
    "        input_tx_test = np.c_[input_tx_test, build_sqrt(input_tx_test[:, ind])]\n",
    "    return input_tx_train, input_tx_test"
   ]
  },
  {
   "cell_type": "code",
   "execution_count": 14,
   "metadata": {},
   "outputs": [
    {
     "name": "stdout",
     "output_type": "stream",
     "text": [
      "tx_tr_in[0] =  [  1.38470000e+02   5.16550000e+01   9.78270000e+01   2.79800000e+01\n",
      "   9.10000000e-01   1.24711000e+02   2.66600000e+00   3.06400000e+00\n",
      "   4.19280000e+01   1.97760000e+02   1.58200000e+00   1.39600000e+00\n",
      "   2.00000000e-01   3.26380000e+01   1.01700000e+00   3.81000000e-01\n",
      "   5.16260000e+01   2.27300000e+00  -2.41400000e+00   1.68240000e+01\n",
      "  -2.77000000e-01   2.58733000e+02   6.74350000e+01   2.15000000e+00\n",
      "   4.44000000e-01   4.60620000e+01   1.24000000e+00  -2.47500000e+00\n",
      "   1.13497000e+02]\n",
      "tx_te_in[0] =  [  1.21858528e+02   7.95890000e+01   2.39160000e+01   3.03600000e+00\n",
      "   2.40373503e+00   3.71783360e+02  -8.21688171e-01   9.03000000e-01\n",
      "   3.03600000e+00   5.60180000e+01   1.53600000e+00  -1.40400000e+00\n",
      "   4.58289801e-01   2.20880000e+01  -5.40000000e-01  -6.09000000e-01\n",
      "   3.39300000e+01  -5.04000000e-01  -1.51100000e+00   4.85090000e+01\n",
      "   2.02200000e+00   9.85560000e+01   8.48221045e+01  -3.27458741e-03\n",
      "  -1.23928255e-02   5.76794744e+01  -1.18452642e-02  -1.58228913e-03\n",
      "   0.00000000e+00]\n"
     ]
    }
   ],
   "source": [
    "print(\"tx_tr_in[0] = \", tx_tr_in[0])\n",
    "print(\"tx_te_in[0] = \", tx_te_in[0])"
   ]
  },
  {
   "cell_type": "code",
   "execution_count": 15,
   "metadata": {},
   "outputs": [
    {
     "name": "stdout",
     "output_type": "stream",
     "text": [
      "tx_tr_wt_cat.shape =  (250000, 62)\n",
      "tx_tr_wt_cat[:,58] =  [ 0.  0.  0. ...,  0.  1.  1.]\n",
      "tx_tr_wt_cat[:,59] =  [ 0.  1.  1. ...,  1.  0.  0.]\n",
      "tx_tr_wt_cat[:,60] =  [ 1.  0.  0. ...,  0.  0.  0.]\n",
      "tx_tr_wt_cat[:,61] =  [ 0.  0.  0. ...,  0.  0.  0.]\n"
     ]
    }
   ],
   "source": [
    "tx_tr, tx_te = augment_feat_sqrt(tx_tr_in, tx_te_in)\n",
    "tx_tr_wt_cat = np.concatenate((tx_tr, tx_tr_cat), axis=1)\n",
    "tx_te_wt_cat = np.concatenate((tx_te, tx_te_cat), axis = 1)\n",
    "print(\"tx_tr_wt_cat.shape = \", tx_tr_wt_cat.shape)\n",
    "print(\"tx_tr_wt_cat[:,58] = \", tx_tr_wt_cat[:, 58])\n",
    "print(\"tx_tr_wt_cat[:,59] = \", tx_tr_wt_cat[:, 59])\n",
    "print(\"tx_tr_wt_cat[:,60] = \", tx_tr_wt_cat[:, 60])\n",
    "print(\"tx_tr_wt_cat[:,61] = \", tx_tr_wt_cat[:, 61])"
   ]
  },
  {
   "cell_type": "code",
   "execution_count": 16,
   "metadata": {},
   "outputs": [
    {
     "name": "stdout",
     "output_type": "stream",
     "text": [
      "min_rmse_te =  0.00157729525174\n"
     ]
    },
    {
     "data": {
      "image/png": "[encoded data removed]",
      "text/plain": [
       "<matplotlib.figure.Figure at 0x1e441d912b0>"
      ]
     },
     "metadata": {},
     "output_type": "display_data"
    }
   ],
   "source": [
    "def cross_validation_demo():\n",
    "    seed = 1\n",
    "    degree = 1\n",
    "    k_fold = 4\n",
    "    lambdas = np.logspace(-6, 5, 30)\n",
    "    \n",
    "    # split data in k fold\n",
    "    k_indices = build_k_indices(y_tr, k_fold, seed)\n",
    "    \n",
    "    # define lists to store the loss of training data and test data\n",
    "    rmse_tr = []\n",
    "    rmse_te = []\n",
    "    \n",
    "    # cross validation\n",
    "    for ind, lambda_ in enumerate(lambdas):\n",
    "        # define model\n",
    "        model = ridge_regression(lambda_)\n",
    "        losses_train, losses_test = cross_validation(model, y_tr, tx_tr_wt_cat, k_fold)\n",
    "        tmp_tr = np.mean(losses_train)\n",
    "        tmp_te = np.mean(losses_test)\n",
    "        rmse_tr.append(tmp_tr)\n",
    "        rmse_te.append(tmp_te)\n",
    "    print(\"min_rmse_te = \", np.min(rmse_te))\n",
    "    cross_validation_visualization(lambdas, rmse_tr, rmse_te)\n",
    "\n",
    "cross_validation_demo()"
   ]
  },
  {
   "cell_type": "markdown",
   "metadata": {
    "collapsed": true
   },
   "source": [
    "# Fit data with Ridge Regression and augmenting features using log"
   ]
  },
  {
   "cell_type": "code",
   "execution_count": 17,
   "metadata": {
    "collapsed": true
   },
   "outputs": [],
   "source": [
    "def build_log(x):\n",
    "    \"\"\"polynomial basis functions for input data x, for j=0 up to j=degree.\"\"\"\n",
    "    log = np.ones((len(x), 1))\n",
    "    log = np.c_[log, np.log(np.abs(x))]\n",
    "    return log[:, 1:]\n",
    "\n",
    "def augment_feat_log(input_tx_train, input_tx_test):\n",
    "    n_features = len(input_tx_train[0])\n",
    "    for ind in range(0, n_features):\n",
    "        mask1 = ~np.any(input_tx_train[:, ind] < 0.001)\n",
    "        mask2 = ~np.any(input_tx_test[:, ind] < 0.001)\n",
    "        if (mask1 and mask2):\n",
    "            print(\"Found appropriate feature\")\n",
    "            input_tx_train = np.c_[input_tx_train, build_log(input_tx_train[:, ind])]\n",
    "            input_tx_test = np.c_[input_tx_test, build_log(input_tx_test[:, ind])]\n",
    "    return input_tx_train, input_tx_test"
   ]
  },
  {
   "cell_type": "code",
   "execution_count": 18,
   "metadata": {},
   "outputs": [
    {
     "name": "stdout",
     "output_type": "stream",
     "text": [
      "tx_tr_in[0] =  [  1.38470000e+02   5.16550000e+01   9.78270000e+01   2.79800000e+01\n",
      "   9.10000000e-01   1.24711000e+02   2.66600000e+00   3.06400000e+00\n",
      "   4.19280000e+01   1.97760000e+02   1.58200000e+00   1.39600000e+00\n",
      "   2.00000000e-01   3.26380000e+01   1.01700000e+00   3.81000000e-01\n",
      "   5.16260000e+01   2.27300000e+00  -2.41400000e+00   1.68240000e+01\n",
      "  -2.77000000e-01   2.58733000e+02   6.74350000e+01   2.15000000e+00\n",
      "   4.44000000e-01   4.60620000e+01   1.24000000e+00  -2.47500000e+00\n",
      "   1.13497000e+02]\n",
      "tx_te_in[0] =  [  1.21858528e+02   7.95890000e+01   2.39160000e+01   3.03600000e+00\n",
      "   2.40373503e+00   3.71783360e+02  -8.21688171e-01   9.03000000e-01\n",
      "   3.03600000e+00   5.60180000e+01   1.53600000e+00  -1.40400000e+00\n",
      "   4.58289801e-01   2.20880000e+01  -5.40000000e-01  -6.09000000e-01\n",
      "   3.39300000e+01  -5.04000000e-01  -1.51100000e+00   4.85090000e+01\n",
      "   2.02200000e+00   9.85560000e+01   8.48221045e+01  -3.27458741e-03\n",
      "  -1.23928255e-02   5.76794744e+01  -1.18452642e-02  -1.58228913e-03\n",
      "   0.00000000e+00]\n"
     ]
    }
   ],
   "source": [
    "print(\"tx_tr_in[0] = \", tx_tr_in[0])\n",
    "print(\"tx_te_in[0] = \", tx_te_in[0])"
   ]
  },
  {
   "cell_type": "code",
   "execution_count": 19,
   "metadata": {},
   "outputs": [
    {
     "name": "stdout",
     "output_type": "stream",
     "text": [
      "Found appropriate feature\n",
      "Found appropriate feature\n",
      "Found appropriate feature\n",
      "Found appropriate feature\n",
      "Found appropriate feature\n",
      "Found appropriate feature\n",
      "Found appropriate feature\n",
      "Found appropriate feature\n",
      "Found appropriate feature\n",
      "Found appropriate feature\n",
      "Found appropriate feature\n",
      "Found appropriate feature\n",
      "tx_tr.shape =  (250000, 41)\n",
      "tx_te_shape =  (568238, 41)\n"
     ]
    }
   ],
   "source": [
    "tx_tr, tx_te = augment_feat_log(tx_tr_in, tx_te_in)\n",
    "tx_tr_wt_cat = np.concatenate((tx_tr, tx_tr_cat), axis=1)\n",
    "tx_te_wt_cat = np.concatenate((tx_te, tx_te_cat), axis = 1)\n",
    "print(\"tx_tr.shape = \", tx_tr.shape)\n",
    "print(\"tx_te_shape = \", tx_te.shape)"
   ]
  },
  {
   "cell_type": "code",
   "execution_count": 20,
   "metadata": {},
   "outputs": [
    {
     "name": "stdout",
     "output_type": "stream",
     "text": [
      "min_rmse_te =  0.00159257785681\n"
     ]
    },
    {
     "data": {
      "image/png": "[encoded data removed]",
      "text/plain": [
       "<matplotlib.figure.Figure at 0x1e43f904390>"
      ]
     },
     "metadata": {},
     "output_type": "display_data"
    }
   ],
   "source": [
    "def cross_validation_demo():\n",
    "    seed = 1\n",
    "    degree = 1\n",
    "    k_fold = 4\n",
    "    lambdas = np.logspace(-6, -3, 30)\n",
    "    \n",
    "    # split data in k fold\n",
    "    k_indices = build_k_indices(y_tr, k_fold, seed)\n",
    "    \n",
    "    # define lists to store the loss of training data and test data\n",
    "    rmse_tr = []\n",
    "    rmse_te = []\n",
    "    \n",
    "    # cross validation\n",
    "    for ind, lambda_ in enumerate(lambdas):\n",
    "        # define model\n",
    "        model = ridge_regression(lambda_)\n",
    "        losses_train, losses_test = cross_validation(model, y_tr, tx_tr_wt_cat, k_fold)\n",
    "        tmp_tr = np.mean(losses_train)\n",
    "        tmp_te = np.mean(losses_test)\n",
    "        rmse_tr.append(tmp_tr)\n",
    "        rmse_te.append(tmp_te)\n",
    "    print(\"min_rmse_te = \", np.min(rmse_te))\n",
    "    cross_validation_visualization(lambdas, rmse_tr, rmse_te)\n",
    "\n",
    "cross_validation_demo()"
   ]
  },
  {
   "cell_type": "code",
   "execution_count": 21,
   "metadata": {},
   "outputs": [
    {
     "name": "stdout",
     "output_type": "stream",
     "text": [
      "sum =  -244780\n"
     ]
    }
   ],
   "source": [
    "model = ridge_regression(1e-6)\n",
    "model.fit(y_tr, tx_tr_wt_cat)\n",
    "y_pred_test = model.predict(tx_te_wt_cat)\n",
    "\n",
    "y_pred_bin = np.array([-1 if p<0.5 else 1 for p in y_pred_test])\n",
    "print(\"sum = \", np.sum(y_pred_bin))\n",
    "\n",
    "create_csv_submission(ids_test, y_pred_bin, 'sub3.csv')"
   ]
  },
  {
   "cell_type": "markdown",
   "metadata": {},
   "source": [
    "# Fit data with Ridge Regression and inverse"
   ]
  },
  {
   "cell_type": "code",
   "execution_count": 22,
   "metadata": {
    "collapsed": true
   },
   "outputs": [],
   "source": [
    "def build_inv(x):\n",
    "    \"\"\"polynomial basis functions for input data x, for j=0 up to j=degree.\"\"\"\n",
    "    inv = np.ones((len(x), 1))\n",
    "    inv = np.c_[inv, 1/x]\n",
    "    return inv[:, 1:]\n",
    "\n",
    "def augment_feat_inv(input_tx_train, input_tx_test):\n",
    "    n_features = len(input_tx_train[0])\n",
    "    for ind in range(0, n_features):\n",
    "        mask1 = ~np.any(input_tx_train[:, ind] < 0.01)\n",
    "        #mask_test = input_tx_train[:, ind] < 0.01\n",
    "        #print(mask_test)\n",
    "        #print(\"For iteration i = \", ind,  input_tx_train[:,ind][mask_test])\n",
    "        mask2 = ~np.any(input_tx_test[:, ind] < 0.01)\n",
    "        if (mask1 and mask2):\n",
    "            print(\"Found appropriate feature\")\n",
    "            input_tx_train = np.c_[input_tx_train, build_inv(input_tx_train[:, ind])]\n",
    "            input_tx_test = np.c_[input_tx_test, build_inv(input_tx_test[:, ind])]\n",
    "    return input_tx_train, input_tx_test"
   ]
  },
  {
   "cell_type": "code",
   "execution_count": 23,
   "metadata": {},
   "outputs": [
    {
     "name": "stdout",
     "output_type": "stream",
     "text": [
      "tx_tr_in[0] =  [  1.38470000e+02   5.16550000e+01   9.78270000e+01   2.79800000e+01\n",
      "   9.10000000e-01   1.24711000e+02   2.66600000e+00   3.06400000e+00\n",
      "   4.19280000e+01   1.97760000e+02   1.58200000e+00   1.39600000e+00\n",
      "   2.00000000e-01   3.26380000e+01   1.01700000e+00   3.81000000e-01\n",
      "   5.16260000e+01   2.27300000e+00  -2.41400000e+00   1.68240000e+01\n",
      "  -2.77000000e-01   2.58733000e+02   6.74350000e+01   2.15000000e+00\n",
      "   4.44000000e-01   4.60620000e+01   1.24000000e+00  -2.47500000e+00\n",
      "   1.13497000e+02]\n",
      "tx_te_in[0] =  [  1.21858528e+02   7.95890000e+01   2.39160000e+01   3.03600000e+00\n",
      "   2.40373503e+00   3.71783360e+02  -8.21688171e-01   9.03000000e-01\n",
      "   3.03600000e+00   5.60180000e+01   1.53600000e+00  -1.40400000e+00\n",
      "   4.58289801e-01   2.20880000e+01  -5.40000000e-01  -6.09000000e-01\n",
      "   3.39300000e+01  -5.04000000e-01  -1.51100000e+00   4.85090000e+01\n",
      "   2.02200000e+00   9.85560000e+01   8.48221045e+01  -3.27458741e-03\n",
      "  -1.23928255e-02   5.76794744e+01  -1.18452642e-02  -1.58228913e-03\n",
      "   0.00000000e+00]\n"
     ]
    }
   ],
   "source": [
    "print(\"tx_tr_in[0] = \", tx_tr_in[0])\n",
    "print(\"tx_te_in[0] = \", tx_te_in[0])"
   ]
  },
  {
   "cell_type": "code",
   "execution_count": 24,
   "metadata": {},
   "outputs": [
    {
     "name": "stdout",
     "output_type": "stream",
     "text": [
      "Found appropriate feature\n",
      "Found appropriate feature\n",
      "Found appropriate feature\n",
      "Found appropriate feature\n",
      "Found appropriate feature\n",
      "Found appropriate feature\n",
      "Found appropriate feature\n",
      "Found appropriate feature\n",
      "Found appropriate feature\n",
      "Found appropriate feature\n",
      "Found appropriate feature\n",
      "Found appropriate feature\n",
      "tx_tr.shape =  (250000, 41)\n",
      "tx_te_shape =  (568238, 41)\n"
     ]
    }
   ],
   "source": [
    "tx_tr, tx_te = augment_feat_inv(tx_tr_in, tx_te_in)\n",
    "tx_tr_wt_cat = np.concatenate((tx_tr, tx_tr_cat), axis=1)\n",
    "tx_te_wt_cat = np.concatenate((tx_te, tx_te_cat), axis = 1)\n",
    "print(\"tx_tr.shape = \", tx_tr.shape)\n",
    "print(\"tx_te_shape = \", tx_te.shape)"
   ]
  },
  {
   "cell_type": "code",
   "execution_count": 25,
   "metadata": {
    "scrolled": true
   },
   "outputs": [
    {
     "name": "stdout",
     "output_type": "stream",
     "text": [
      "min_rmse_te =  0.00159781112211\n"
     ]
    },
    {
     "data": {
      "image/png": "[encoded data removed]",
      "text/plain": [
       "<matplotlib.figure.Figure at 0x1e44f9d7208>"
      ]
     },
     "metadata": {},
     "output_type": "display_data"
    }
   ],
   "source": [
    "def cross_validation_demo():\n",
    "    seed = 1\n",
    "    degree = 1\n",
    "    k_fold = 4\n",
    "    lambdas = np.logspace(-6, 0, 30)\n",
    "    \n",
    "    # split data in k fold\n",
    "    k_indices = build_k_indices(y_tr, k_fold, seed)\n",
    "    \n",
    "    # define lists to store the loss of training data and test data\n",
    "    rmse_tr = []\n",
    "    rmse_te = []\n",
    "    \n",
    "    # cross validation\n",
    "    for ind, lambda_ in enumerate(lambdas):\n",
    "        # define model\n",
    "        model = ridge_regression(lambda_)\n",
    "        losses_train, losses_test = cross_validation(model, y_tr, tx_tr_wt_cat, k_fold)\n",
    "        tmp_tr = np.mean(losses_train)\n",
    "        tmp_te = np.mean(losses_test)\n",
    "        rmse_tr.append(tmp_tr)\n",
    "        rmse_te.append(tmp_te)\n",
    "    print(\"min_rmse_te = \", np.min(rmse_te))\n",
    "    cross_validation_visualization(lambdas, rmse_tr, rmse_te)\n",
    "\n",
    "cross_validation_demo()"
   ]
  },
  {
   "cell_type": "markdown",
   "metadata": {},
   "source": [
    "# Fit with Ridge and combining useful data augmentation"
   ]
  },
  {
   "cell_type": "code",
   "execution_count": 32,
   "metadata": {},
   "outputs": [
    {
     "name": "stdout",
     "output_type": "stream",
     "text": [
      "Found appropriate feature\n",
      "Found appropriate feature\n",
      "Found appropriate feature\n",
      "Found appropriate feature\n",
      "Found appropriate feature\n",
      "Found appropriate feature\n",
      "Found appropriate feature\n",
      "Found appropriate feature\n",
      "Found appropriate feature\n",
      "Found appropriate feature\n",
      "Found appropriate feature\n",
      "Found appropriate feature\n",
      "Found appropriate feature\n",
      "Found appropriate feature\n",
      "Found appropriate feature\n",
      "Found appropriate feature\n",
      "Found appropriate feature\n",
      "Found appropriate feature\n",
      "Found appropriate feature\n",
      "Found appropriate feature\n",
      "Found appropriate feature\n",
      "Found appropriate feature\n",
      "Found appropriate feature\n",
      "Found appropriate feature\n",
      "Found appropriate feature\n",
      "Found appropriate feature\n",
      "Found appropriate feature\n",
      "Found appropriate feature\n",
      "Found appropriate feature\n",
      "Found appropriate feature\n",
      "Found appropriate feature\n",
      "Found appropriate feature\n",
      "Found appropriate feature\n",
      "Found appropriate feature\n",
      "Found appropriate feature\n",
      "Found appropriate feature\n",
      "Found appropriate feature\n",
      "Found appropriate feature\n",
      "Found appropriate feature\n",
      "Found appropriate feature\n",
      "Found appropriate feature\n",
      "Found appropriate feature\n",
      "Found appropriate feature\n",
      "Found appropriate feature\n",
      "Found appropriate feature\n",
      "Found appropriate feature\n",
      "Found appropriate feature\n",
      "Found appropriate feature\n",
      "Found appropriate feature\n",
      "Found appropriate feature\n",
      "Found appropriate feature\n",
      "Found appropriate feature\n",
      "Found appropriate feature\n",
      "Found appropriate feature\n",
      "Found appropriate feature\n",
      "Found appropriate feature\n",
      "Found appropriate feature\n",
      "Found appropriate feature\n",
      "Found appropriate feature\n",
      "Found appropriate feature\n",
      "Found appropriate feature\n",
      "Found appropriate feature\n",
      "Found appropriate feature\n",
      "Found appropriate feature\n",
      "Found appropriate feature\n",
      "Found appropriate feature\n",
      "Found appropriate feature\n",
      "Found appropriate feature\n",
      "tx_tr_wt_cat.shape =  (250000, 131)\n",
      "tx_te_wt_cat.shape =  (568238, 131)\n"
     ]
    }
   ],
   "source": [
    "tx_tr_sqr, tx_te_sqr = augment_feat_sqrt(tx_tr_in, tx_te_in)\n",
    "tx_tr_log, tx_te_log = augment_feat_log(tx_tr_sqr, tx_te_sqr)\n",
    "tx_tr_inv, tx_te_inv = augment_feat_inv(tx_tr_log, tx_te_log)\n",
    "tx_tr_wt_cat = np.concatenate((tx_tr_inv, tx_tr_cat, np.ones((len(tx_tr_wt_cat),1))), axis=1)\n",
    "tx_te_wt_cat = np.concatenate((tx_te_inv, tx_te_cat, np.ones((len(tx_te_wt_cat),1))), axis = 1)\n",
    "print(\"tx_tr_wt_cat.shape = \", tx_tr_wt_cat.shape)\n",
    "print(\"tx_te_wt_cat.shape = \", tx_te_wt_cat.shape)"
   ]
  },
  {
   "cell_type": "code",
   "execution_count": 33,
   "metadata": {},
   "outputs": [
    {
     "name": "stdout",
     "output_type": "stream",
     "text": [
      "min_rmse_te =  0.0015292121672\n"
     ]
    },
    {
     "data": {
      "image/png": "[encoded data removed]",
      "text/plain": [
       "<matplotlib.figure.Figure at 0x1e43d40d6d8>"
      ]
     },
     "metadata": {},
     "output_type": "display_data"
    }
   ],
   "source": [
    "def cross_validation_demo():\n",
    "    seed = 1\n",
    "    degree = 1\n",
    "    k_fold = 4\n",
    "    lambdas = np.logspace(-8, 0, 5)\n",
    "    \n",
    "    # split data in k fold\n",
    "    k_indices = build_k_indices(y_tr, k_fold, seed)\n",
    "    \n",
    "    # define lists to store the loss of training data and test data\n",
    "    rmse_tr = []\n",
    "    rmse_te = []\n",
    "    \n",
    "    # cross validation\n",
    "    for ind, lambda_ in enumerate(lambdas):\n",
    "        # define model\n",
    "        model = ridge_regression(lambda_)\n",
    "        losses_train, losses_test = cross_validation(model, y_tr, tx_tr_wt_cat, k_fold)\n",
    "        tmp_tr = np.mean(losses_train)\n",
    "        tmp_te = np.mean(losses_test)\n",
    "        rmse_tr.append(tmp_tr)\n",
    "        rmse_te.append(tmp_te)\n",
    "    print(\"min_rmse_te = \", np.min(rmse_te))\n",
    "    cross_validation_visualization(lambdas, rmse_tr, rmse_te)\n",
    "\n",
    "cross_validation_demo()"
   ]
  },
  {
   "cell_type": "code",
   "execution_count": 48,
   "metadata": {},
   "outputs": [
    {
     "name": "stdout",
     "output_type": "stream",
     "text": [
      "err =  [ 0.61062324 -0.52261094 -0.33511811 ...,  0.59600883 -0.4651856\n",
      " -0.28042548]\n"
     ]
    }
   ],
   "source": [
    "model_y = ridge_regression(1e-8)\n",
    "model_y.fit(y_tr, tx_tr_wt_cat)\n",
    "y_pred_train = model_y.predict(tx_tr_wt_cat)\n",
    "\n",
    "err = y_tr - y_pred_train\n",
    "print(\"err = \", err)"
   ]
  },
  {
   "cell_type": "code",
   "execution_count": 49,
   "metadata": {},
   "outputs": [
    {
     "name": "stdout",
     "output_type": "stream",
     "text": [
      "min_rmse_te =  0.00152840719423\n"
     ]
    },
    {
     "data": {
      "image/png": "[encoded data removed]",
      "text/plain": [
       "<matplotlib.figure.Figure at 0x1e439d0ed68>"
      ]
     },
     "metadata": {},
     "output_type": "display_data"
    }
   ],
   "source": [
    "def cross_validation_demo():\n",
    "    seed = 1\n",
    "    degree = 1\n",
    "    k_fold = 4\n",
    "    lambdas = np.logspace(-8, 0, 5)\n",
    "    \n",
    "    # split data in k fold\n",
    "    k_indices = build_k_indices(y_tr, k_fold, seed)\n",
    "    \n",
    "    # define lists to store the loss of training data and test data\n",
    "    rmse_tr = []\n",
    "    rmse_te = []\n",
    "    \n",
    "    # cross validation\n",
    "    for ind, lambda_ in enumerate(lambdas):\n",
    "        # define model\n",
    "        model = ridge_regression(lambda_)\n",
    "        losses_train, losses_test = cross_validation(model, err, tx_tr_wt_cat, k_fold)\n",
    "        tmp_tr = np.mean(losses_train)\n",
    "        tmp_te = np.mean(losses_test)\n",
    "        rmse_tr.append(tmp_tr)\n",
    "        rmse_te.append(tmp_te)\n",
    "    print(\"min_rmse_te = \", np.min(rmse_te))\n",
    "    cross_validation_visualization(lambdas, rmse_tr, rmse_te)\n",
    "\n",
    "cross_validation_demo()"
   ]
  },
  {
   "cell_type": "code",
   "execution_count": 50,
   "metadata": {},
   "outputs": [
    {
     "name": "stdout",
     "output_type": "stream",
     "text": [
      "rmse_tr =  0.000763913783121\n"
     ]
    }
   ],
   "source": [
    "model_err = ridge_regression(1e-8)\n",
    "model_err.fit(err, tx_tr_wt_cat)\n",
    "err_pred = model_err.predict(tx_tr_wt_cat)\n",
    "\n",
    "sol_pred = y_pred_train + err_pred\n",
    "rmse_tr = np.sqrt(2*model_err.compute_loss(y_tr-sol_pred))\n",
    "print(\"rmse_tr = \", rmse_tr)"
   ]
  },
  {
   "cell_type": "code",
   "execution_count": 51,
   "metadata": {},
   "outputs": [
    {
     "name": "stdout",
     "output_type": "stream",
     "text": [
      "len =  568238\n"
     ]
    }
   ],
   "source": [
    "sol_pred = model_y.predict(tx_te_wt_cat) + model_err.predict(tx_te_wt_cat)\n",
    "\n",
    "y_pred_bin = np.array([-1 if p<0.5 else 1 for p in sol_pred])\n",
    "print(\"len = \", len(y_pred_bin))\n",
    "\n",
    "create_csv_submission(ids_test, y_pred_bin, 'dble_ridge.csv')"
   ]
  },
  {
   "cell_type": "code",
   "execution_count": null,
   "metadata": {
    "collapsed": true
   },
   "outputs": [],
   "source": []
  }
 ],
 "metadata": {
  "kernelspec": {
   "display_name": "Python 3",
   "language": "python",
   "name": "python3"
  },
  "language_info": {
   "codemirror_mode": {
    "name": "ipython",
    "version": 3
   },
   "file_extension": ".py",
   "mimetype": "text/x-python",
   "name": "python",
   "nbconvert_exporter": "python",
   "pygments_lexer": "ipython3",
   "version": "3.6.1"
  }
 },
 "nbformat": 4,
 "nbformat_minor": 2
}
