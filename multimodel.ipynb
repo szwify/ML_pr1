{
 "cells": [
  {
   "cell_type": "code",
   "execution_count": 1,
   "metadata": {
    "collapsed": true
   },
   "outputs": [],
   "source": [
    "import numpy as np\n",
    "import matplotlib.pyplot as plt\n",
    "import pickle\n",
    "from helpers import *\n",
    "from Model import *"
   ]
  },
  {
   "cell_type": "code",
   "execution_count": 2,
   "metadata": {},
   "outputs": [
    {
     "name": "stdout",
     "output_type": "stream",
     "text": [
      "Train set shape  (250000, 30)\n",
      "Test set shape  (568238, 30)\n"
     ]
    }
   ],
   "source": [
    "[yb_t, input_data_t, ids_t, yb_test, input_data_test, ids_test] = pickle.load(open( \"dat.p\", \"rb\" ))\n",
    "tx_tr_clean = clean_data(input_data_t)\n",
    "tx_te_clean = clean_data(input_data_test)\n",
    "\n",
    "print('Train set shape ', tx_tr_clean.shape)\n",
    "print('Test set shape ', tx_te_clean.shape)"
   ]
  },
  {
   "cell_type": "code",
   "execution_count": 3,
   "metadata": {
    "collapsed": true
   },
   "outputs": [],
   "source": [
    "tx_tr_clean = np.column_stack((tx_tr_clean, yb_t))\n",
    "tx_te_clean = np.column_stack((tx_te_clean, yb_test, ids_test))"
   ]
  },
  {
   "cell_type": "markdown",
   "metadata": {},
   "source": [
    "Extract different pattern of missing data"
   ]
  },
  {
   "cell_type": "code",
   "execution_count": 15,
   "metadata": {
    "collapsed": true
   },
   "outputs": [],
   "source": [
    "def extract_patern(tx):\n",
    "    sh = tx.shape\n",
    "    nan_mask = np.isnan(tx)\n",
    "    type_of_missing = []\n",
    "    for i in range(sh[0]):\n",
    "        type_of_missing.append(''.join(['1'  if nan_mask[i,j] else '0' for j in range(sh[1])]))\n",
    "    type_of_missing = set(type_of_missing)\n",
    "    type_of_missing_bool = []\n",
    "    for line in type_of_missing:\n",
    "        type_of_missing_bool.append([True if e == '1' else False for e in line])\n",
    "    return nan_mask, np.array(type_of_missing_bool)"
   ]
  },
  {
   "cell_type": "code",
   "execution_count": null,
   "metadata": {
    "collapsed": true
   },
   "outputs": [],
   "source": [
    "#%%time\n",
    "#nan_mask_tr, type_of_missing = extract_patern(tx_tr_clean)\n",
    "#print(type_of_missing)"
   ]
  },
  {
   "cell_type": "markdown",
   "metadata": {},
   "source": [
    "Sort the data by the pattern"
   ]
  },
  {
   "cell_type": "code",
   "execution_count": 16,
   "metadata": {
    "collapsed": true
   },
   "outputs": [],
   "source": [
    "\n",
    "def sort_by_pattern(tx, nan_mask, type_of_missing):\n",
    "    tx_sorted = [[]]*len(type_of_missing)\n",
    "    for i in range(nan_mask.shape[0]):\n",
    "        for k in range(type_of_missing.shape[0]):\n",
    "            if np.array_equal(nan_mask[i,:],type_of_missing[k,:]):\n",
    "                tx_sorted[k]=tx_sorted[k]+[tx[i,:]]\n",
    "                break\n",
    "    return tx_sorted\n",
    "        "
   ]
  },
  {
   "cell_type": "code",
   "execution_count": null,
   "metadata": {
    "collapsed": true
   },
   "outputs": [],
   "source": [
    "#%%time\n",
    "#tx_tr_sorted = sort_by_pattern(tx_tr_clean, nan_mask_tr, type_of_missing)"
   ]
  },
  {
   "cell_type": "code",
   "execution_count": 4,
   "metadata": {
    "collapsed": true
   },
   "outputs": [],
   "source": [
    "\n",
    "tx_tr_sorted,type_of_missing = pickle.load(open('tx_sorted.dat', 'rb'))"
   ]
  },
  {
   "cell_type": "markdown",
   "metadata": {},
   "source": [
    "Concatenante data that can be trained together"
   ]
  },
  {
   "cell_type": "code",
   "execution_count": 5,
   "metadata": {},
   "outputs": [
    {
     "name": "stdout",
     "output_type": "stream",
     "text": [
      "[[0], [0, 1], [0, 2], [0, 2, 3], [0, 1, 2, 3, 4, 5], [0, 1, 2, 5]]\n"
     ]
    }
   ],
   "source": [
    "valid_data = []\n",
    "for line in type_of_missing:\n",
    "    valid = []\n",
    "    for (i,test) in enumerate(type_of_missing):\n",
    "        plop = test[np.invert(line)]\n",
    "        if not plop.any():\n",
    "            valid.append(i)\n",
    "    valid_data.append(valid)\n",
    "    \n",
    "print(valid_data)"
   ]
  },
  {
   "cell_type": "code",
   "execution_count": 6,
   "metadata": {
    "collapsed": true
   },
   "outputs": [],
   "source": [
    "tx_tr_sorted_grouped = []\n",
    "for valid in valid_data:\n",
    "    temp = []\n",
    "    for i in valid:\n",
    "        temp += tx_tr_sorted[i]\n",
    "    tx_tr_sorted_grouped.append(temp)\n",
    "    \n",
    "tx_tr_sorted_grouped = [np.array(e) for e in tx_tr_sorted_grouped]"
   ]
  },
  {
   "cell_type": "markdown",
   "metadata": {},
   "source": [
    "Training the models"
   ]
  },
  {
   "cell_type": "code",
   "execution_count": 7,
   "metadata": {
    "collapsed": true
   },
   "outputs": [],
   "source": [
    "def build_poly(x, degree):\n",
    "    \"\"\"polynomial basis functions for input data x, for j=0 up to j=degree.\"\"\"\n",
    "    poly = np.ones((len(x), 1))\n",
    "    for deg in range(1, degree+1):\n",
    "        poly = np.c_[poly, np.power(x, deg)]\n",
    "    return poly[:, 1:]\n",
    "\n",
    "def augment_feat(input_tx_train, input_tx_test, degree):\n",
    "    n_features = len(input_tx_train[0])\n",
    "    for ind in range(1, n_features):\n",
    "        input_tx_train = np.c_[input_tx_train, build_poly(input_tx_train[:, ind], degree)]\n",
    "        input_tx_test = np.c_[input_tx_test, build_poly(input_tx_test[:, ind], degree)]\n",
    "    return input_tx_train, input_tx_test\n",
    "\n",
    "def augment_feat_no_test(input_tx_train, degree):\n",
    "    n_features = len(input_tx_train[0])\n",
    "    for ind in range(1, n_features):\n",
    "        input_tx_train = np.c_[input_tx_train, build_poly(input_tx_train[:, ind], degree)]\n",
    "    return np.column_stack((np.ones((len(input_tx_train), 1)),input_tx_train))\n",
    "\n"
   ]
  },
  {
   "cell_type": "code",
   "execution_count": null,
   "metadata": {},
   "outputs": [],
   "source": []
  },
  {
   "cell_type": "code",
   "execution_count": 13,
   "metadata": {},
   "outputs": [
    {
     "name": "stdout",
     "output_type": "stream",
     "text": [
      "Wall time: 2min 46s\n"
     ]
    }
   ],
   "source": [
    "%%time\n",
    "models = []\n",
    "std_values = []\n",
    "for tx in tx_tr_sorted_grouped:\n",
    "    y = tx[:,-1]\n",
    "    tx = tx[:,0:-1]\n",
    "    tx = augment_feat_no_test(tx, 2)\n",
    "    tx, mean_x, std_x = standardize(tx)\n",
    "    model = logistic_regression_SGD(max_iters = 2, gamma = 0.1)\n",
    "    model.fit(y, tx)\n",
    "    models.append(model)\n",
    "    std_values.append([mean_x, std_x])\n",
    "\n"
   ]
  },
  {
   "cell_type": "code",
   "execution_count": 12,
   "metadata": {},
   "outputs": [
    {
     "name": "stdout",
     "output_type": "stream",
     "text": [
      "[69314718.056006595]\n",
      "Wall time: 9.4 s\n"
     ]
    }
   ],
   "source": [
    "%%time\n",
    "tx = tx_tr_sorted_grouped[0]\n",
    "y = tx[:,-1]\n",
    "tx = tx[:,0:-1]\n",
    "tx = augment_feat_no_test(tx, 2)\n",
    "tx, mean_x, std_x = standardize(tx)\n",
    "model = logistic_regression_SGD(gamma = 0.1,max_iters = 1)\n",
    "model.fit(y, tx)\n",
    "\n",
    "print(model.losses_)"
   ]
  },
  {
   "cell_type": "code",
   "execution_count": 24,
   "metadata": {},
   "outputs": [
    {
     "name": "stdout",
     "output_type": "stream",
     "text": [
      "[(31,), (31,), (31,), (31,), (31,), (31,)]\n",
      "[(32,), (32,), (32,), (32,), (32,), (32,)]\n",
      "[  1.43204000e+02   4.59630000e+01   1.11366000e+02   9.55090000e+01\n",
      "   2.52900000e+00   1.80618000e+02   6.31000000e-01   1.94900000e+00\n",
      "   2.84780000e+01   2.52594000e+02   4.49000000e-01  -1.47000000e-01\n",
      "   9.00000000e-03   7.69820000e+01   5.24000000e-01  -2.60900000e+00\n",
      "   3.45710000e+01  -1.24200000e+00  -1.78500000e+00   3.70410000e+01\n",
      "  -3.91000000e-01   3.16318000e+02   3.00000000e+00   6.19790000e+01\n",
      "   2.29000000e-01   1.22600000e+00   4.78200000e+01   2.75800000e+00\n",
      "   1.62600000e+00   1.41041000e+02   1.00000000e+00   3.51014000e+05]\n"
     ]
    }
   ],
   "source": [
    "print([e[0].shape for e in tx_tr_sorted])\n",
    "\n",
    "print([e[0].shape for e in tx_te_sorted])\n",
    "\n",
    "print(tx_te_clean[1014])"
   ]
  },
  {
   "cell_type": "markdown",
   "metadata": {
    "collapsed": true
   },
   "source": [
    "Prediction phase :"
   ]
  },
  {
   "cell_type": "code",
   "execution_count": 18,
   "metadata": {},
   "outputs": [
    {
     "name": "stdout",
     "output_type": "stream",
     "text": [
      "Wall time: 22min 55s\n"
     ]
    }
   ],
   "source": [
    "%%time\n",
    "nan_mask_te, type_of_missing_te = extract_patern(tx_te_clean)\n",
    "tx_te_sorted = sort_by_pattern(tx_te_clean, nan_mask_te, type_of_missing_te)\n",
    "tx_te_sorted = [np.array(e) for e in tx_te_sorted]"
   ]
  },
  {
   "cell_type": "code",
   "execution_count": 19,
   "metadata": {
    "collapsed": true
   },
   "outputs": [],
   "source": [
    "pickle.dump([tx_te_sorted,type_of_missing_te], open('tx_te_sorted.dat', 'wb'))\n",
    "tx_tr_sorted,type_of_missing = pickle.load(open('tx_sorted.dat', 'rb'))"
   ]
  },
  {
   "cell_type": "code",
   "execution_count": 26,
   "metadata": {},
   "outputs": [
    {
     "name": "stdout",
     "output_type": "stream",
     "text": [
      "(68114, 29)\n"
     ]
    },
    {
     "ename": "ValueError",
     "evalue": "shapes (68114,86) and (89,10000) not aligned: 86 (dim 1) != 89 (dim 0)",
     "output_type": "error",
     "traceback": [
      "\u001b[1;31m---------------------------------------------------------------------------\u001b[0m",
      "\u001b[1;31mValueError\u001b[0m                                Traceback (most recent call last)",
      "\u001b[1;32m<ipython-input-26-1e72f92fb782>\u001b[0m in \u001b[0;36m<module>\u001b[1;34m()\u001b[0m\n\u001b[0;32m      8\u001b[0m     \u001b[0mtx\u001b[0m \u001b[1;33m=\u001b[0m \u001b[0maugment_feat_no_test\u001b[0m\u001b[1;33m(\u001b[0m\u001b[0mtx\u001b[0m\u001b[1;33m,\u001b[0m \u001b[1;36m2\u001b[0m\u001b[1;33m)\u001b[0m\u001b[1;33m\u001b[0m\u001b[0m\n\u001b[0;32m      9\u001b[0m     \u001b[0mtx\u001b[0m \u001b[1;33m=\u001b[0m \u001b[1;33m(\u001b[0m\u001b[0mtx\u001b[0m\u001b[1;33m-\u001b[0m\u001b[0mstd_value\u001b[0m\u001b[1;33m[\u001b[0m\u001b[1;36m0\u001b[0m\u001b[1;33m]\u001b[0m\u001b[1;33m)\u001b[0m\u001b[1;33m/\u001b[0m\u001b[0mstd_value\u001b[0m\u001b[1;33m[\u001b[0m\u001b[1;36m1\u001b[0m\u001b[1;33m]\u001b[0m\u001b[1;33m\u001b[0m\u001b[0m\n\u001b[1;32m---> 10\u001b[1;33m     \u001b[0my_pred\u001b[0m \u001b[1;33m=\u001b[0m \u001b[0mmodel\u001b[0m\u001b[1;33m.\u001b[0m\u001b[0mpredict\u001b[0m\u001b[1;33m(\u001b[0m\u001b[0mtx\u001b[0m\u001b[1;33m)\u001b[0m\u001b[1;33m\u001b[0m\u001b[0m\n\u001b[0m\u001b[0;32m     11\u001b[0m     \u001b[0my_preds\u001b[0m\u001b[1;33m.\u001b[0m\u001b[0mappend\u001b[0m\u001b[1;33m(\u001b[0m\u001b[0my_pred\u001b[0m\u001b[1;33m)\u001b[0m\u001b[1;33m\u001b[0m\u001b[0m\n\u001b[0;32m     12\u001b[0m     \u001b[0mids\u001b[0m\u001b[1;33m.\u001b[0m\u001b[0mappend\u001b[0m\u001b[1;33m(\u001b[0m\u001b[0mids\u001b[0m\u001b[1;33m)\u001b[0m\u001b[1;33m\u001b[0m\u001b[0m\n",
      "\u001b[1;32mC:\\Users\\Sacha\\Documents\\2018-2019\\ML\\Higgs\\Model.py\u001b[0m in \u001b[0;36mpredict\u001b[1;34m(self, tx)\u001b[0m\n\u001b[0;32m    362\u001b[0m \u001b[1;33m\u001b[0m\u001b[0m\n\u001b[0;32m    363\u001b[0m     \u001b[1;32mdef\u001b[0m \u001b[0mpredict\u001b[0m\u001b[1;33m(\u001b[0m\u001b[0mself\u001b[0m\u001b[1;33m,\u001b[0m \u001b[0mtx\u001b[0m\u001b[1;33m)\u001b[0m\u001b[1;33m:\u001b[0m\u001b[1;33m\u001b[0m\u001b[0m\n\u001b[1;32m--> 364\u001b[1;33m         \u001b[1;32mreturn\u001b[0m \u001b[0mtx\u001b[0m\u001b[1;33m.\u001b[0m\u001b[0mdot\u001b[0m\u001b[1;33m(\u001b[0m\u001b[0mself\u001b[0m\u001b[1;33m.\u001b[0m\u001b[0mw_\u001b[0m\u001b[1;33m)\u001b[0m\u001b[1;33m\u001b[0m\u001b[0m\n\u001b[0m",
      "\u001b[1;31mValueError\u001b[0m: shapes (68114,86) and (89,10000) not aligned: 86 (dim 1) != 89 (dim 0)"
     ]
    }
   ],
   "source": [
    "y_preds = []\n",
    "ids_all = []\n",
    "for tx, std_value, model in zip(tx_tr_sorted_grouped,std_values, models):\n",
    "    y = tx[:,-2]\n",
    "    ids = tx[:,-1]\n",
    "    tx = tx[:,0:-2]\n",
    "    print(tx.shape)\n",
    "    tx = augment_feat_no_test(tx, 2)\n",
    "    tx = (tx-std_value[0])/std_value[1]\n",
    "    y_pred = model.predict(tx)\n",
    "    y_preds.append(y_pred)\n",
    "    ids.append(ids)"
   ]
  },
  {
   "cell_type": "code",
   "execution_count": null,
   "metadata": {
    "collapsed": true
   },
   "outputs": [],
   "source": [
    "print(len(y_preds))\n",
    "y_preds_combined = reduce(np.vstack, y_preds)\n",
    "ids_te_combined = reduce(np.vstack, ids)\n",
    "print(type(y_preds_combined), len(y_preds_combined))"
   ]
  },
  {
   "cell_type": "code",
   "execution_count": null,
   "metadata": {
    "collapsed": true
   },
   "outputs": [],
   "source": [
    "y_pred_bin = np.array([-1 if p<0 else 1 for p in y_preds_combined])"
   ]
  },
  {
   "cell_type": "code",
   "execution_count": null,
   "metadata": {
    "collapsed": true
   },
   "outputs": [],
   "source": [
    "create_csv_submission(ids_te_combined, y_pred_bin, 'submultiridge.csv')"
   ]
  },
  {
   "cell_type": "code",
   "execution_count": null,
   "metadata": {
    "collapsed": true
   },
   "outputs": [],
   "source": []
  }
 ],
 "metadata": {
  "kernelspec": {
   "display_name": "Python 3",
   "language": "python",
   "name": "python3"
  },
  "language_info": {
   "codemirror_mode": {
    "name": "ipython",
    "version": 3
   },
   "file_extension": ".py",
   "mimetype": "text/x-python",
   "name": "python",
   "nbconvert_exporter": "python",
   "pygments_lexer": "ipython3",
   "version": "3.6.1"
  }
 },
 "nbformat": 4,
 "nbformat_minor": 2
}
