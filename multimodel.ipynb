{
 "cells": [
  {
   "cell_type": "code",
   "execution_count": 1,
   "metadata": {
    "collapsed": true
   },
   "outputs": [],
   "source": [
    "import numpy as np\n",
    "import matplotlib.pyplot as plt\n",
    "import pickle\n",
    "from helpers import *\n",
    "import Model"
   ]
  },
  {
   "cell_type": "code",
   "execution_count": 3,
   "metadata": {},
   "outputs": [
    {
     "name": "stdout",
     "output_type": "stream",
     "text": [
      "Train set shape  (250000, 30)\n",
      "Test set shape  (568238, 30)\n"
     ]
    }
   ],
   "source": [
    "[yb_t, input_data_t, ids_t, yb_test, input_data_test, ids_test] = pickle.load(open( \"dat.p\", \"rb\" ))\n",
    "tx_tr_clean = clean_data(input_data_t)\n",
    "tx_te_clean = clean_data(input_data_test)\n",
    "\n",
    "print('Train set shape ', tx_tr_clean.shape)\n",
    "print('Test set shape ', tx_te_clean.shape)"
   ]
  },
  {
   "cell_type": "code",
   "execution_count": 4,
   "metadata": {
    "collapsed": true
   },
   "outputs": [],
   "source": [
    "tx_tr_clean = np.column_stack((tx_tr_clean, yb_t))\n",
    "tx_te_clean = np.column_stack((tx_te_clean, yb_test))"
   ]
  },
  {
   "cell_type": "code",
   "execution_count": 5,
   "metadata": {
    "collapsed": true
   },
   "outputs": [],
   "source": [
    "def extract_patern(tx):\n",
    "    sh = tx.shape\n",
    "    nan_mask = np.isnan(tx)\n",
    "    type_of_missing = []\n",
    "    for i in range(sh[0]):\n",
    "        type_of_missing.append(''.join(['1'  if nan_mask[i,j] else '0' for j in range(sh[1])]))\n",
    "    type_of_missing = set(type_of_missing)\n",
    "    type_of_missing_bool = []\n",
    "    for line in type_of_missing:\n",
    "        type_of_missing_bool.append([True if e == '1' else False for e in line])\n",
    "    return nan_mask, np.array(type_of_missing_bool)"
   ]
  },
  {
   "cell_type": "code",
   "execution_count": 6,
   "metadata": {},
   "outputs": [
    {
     "name": "stdout",
     "output_type": "stream",
     "text": [
      "[[False False False False False False False False False False False False\n",
      "  False False False False False False False False False False False False\n",
      "  False False False False False False False]\n",
      " [False False False False  True  True  True False False False False False\n",
      "   True False False False False False False False False False False False\n",
      "  False False  True  True  True False False]\n",
      " [ True False False False  True  True  True False False False False False\n",
      "   True False False False False False False False False False False False\n",
      "  False False  True  True  True False False]\n",
      " [ True False False False  True  True  True False False False False False\n",
      "   True False False False False False False False False False False  True\n",
      "   True  True  True  True  True False False]\n",
      " [False False False False  True  True  True False False False False False\n",
      "   True False False False False False False False False False False  True\n",
      "   True  True  True  True  True False False]\n",
      " [ True False False False False False False False False False False False\n",
      "  False False False False False False False False False False False False\n",
      "  False False False False False False False]]\n"
     ]
    }
   ],
   "source": [
    "nan_mask_tr, type_of_missing = extract_patern(tx_tr_clean)\n",
    "print(type_of_missing)"
   ]
  },
  {
   "cell_type": "code",
   "execution_count": null,
   "metadata": {
    "collapsed": true
   },
   "outputs": [],
   "source": [
    "def sort_by_pattern(tx, nan_mask, type_of_missing):\n",
    "    tx_sorted = [[]]*len(type_of_missing)\n",
    "    for i in range(nan_mask.shape[0]):\n",
    "        for k in range(type_of_missing.shape[0]):\n",
    "            if np.array_equal(nan_mask[i,:],type_of_missing[k,:]):\n",
    "                tx_sorted[k]=tx_sorted[k]+[tx[i,:]]\n",
    "                break\n",
    "    return tx_sorted\n",
    "        "
   ]
  },
  {
   "cell_type": "code",
   "execution_count": null,
   "metadata": {},
   "outputs": [],
   "source": [
    "tx_tr_sorted = sort_by_pattern(tx_tr_clean, nan_mask_tr, type_of_missing)"
   ]
  },
  {
   "cell_type": "code",
   "execution_count": null,
   "metadata": {},
   "outputs": [],
   "source": [
    "valid_data = []\n",
    "for line in type_of_missing:\n",
    "    valid = []\n",
    "    for (i,test) in enumerate(type_of_missing):\n",
    "        plop = test[np.invert(line)]\n",
    "        if not plop.any():\n",
    "            valid.append(i)\n",
    "    valid_data.append(valid)\n",
    "    \n",
    "print(valid_data)"
   ]
  },
  {
   "cell_type": "code",
   "execution_count": null,
   "metadata": {},
   "outputs": [],
   "source": [
    "tx_tr_sorted_grouped = []\n",
    "for valid in valid_data:\n",
    "    temp = []\n",
    "    for i in valid:\n",
    "        temp += tx_tr_sorted[i]\n",
    "    tx_tr_sorted_grouped.append(temp)\n",
    "    \n",
    "tx_tr_sorted_grouped = [np.array(e) for e in tx_tr_sorted_grouped]"
   ]
  },
  {
   "cell_type": "code",
   "execution_count": null,
   "metadata": {},
   "outputs": [],
   "source": [
    "models = []\n",
    "for tx in tx_tr_sorted_grouped:\n",
    "    model = ridge_regression()\n",
    "    model.fit(tx[:,-1], tx[:,:-1])\n",
    "    models.append(model)\n",
    "\n"
   ]
  },
  {
   "cell_type": "code",
   "execution_count": null,
   "metadata": {
    "collapsed": true
   },
   "outputs": [],
   "source": []
  },
  {
   "cell_type": "code",
   "execution_count": null,
   "metadata": {
    "collapsed": true
   },
   "outputs": [],
   "source": []
  }
 ],
 "metadata": {
  "kernelspec": {
   "display_name": "Python 3",
   "language": "python",
   "name": "python3"
  },
  "language_info": {
   "codemirror_mode": {
    "name": "ipython",
    "version": 3
   },
   "file_extension": ".py",
   "mimetype": "text/x-python",
   "name": "python",
   "nbconvert_exporter": "python",
   "pygments_lexer": "ipython3",
   "version": "3.6.1"
  }
 },
 "nbformat": 4,
 "nbformat_minor": 2
}
